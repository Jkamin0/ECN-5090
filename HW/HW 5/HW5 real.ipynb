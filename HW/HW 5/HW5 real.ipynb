{
 "cells": [
  {
   "cell_type": "code",
   "execution_count": 1,
   "metadata": {
    "id": "Jzbpmg3gIA49"
   },
   "outputs": [],
   "source": [
    "import numpy as np\n",
    "import pandas as pd\n",
    "import matplotlib.pyplot as plt\n",
    "import seaborn as sns\n",
    "from sklearn.linear_model import LinearRegression\n",
    "import statsmodels.api as sm\n",
    "sns.set()  #if you want to use seaborn themes with matplotlib functions\n",
    "import warnings\n",
    "warnings.filterwarnings('ignore')"
   ]
  },
  {
   "cell_type": "code",
   "execution_count": 2,
   "metadata": {
    "id": "0mfugDkSIA4-"
   },
   "outputs": [],
   "source": [
    "rand_state= 1000"
   ]
  },
  {
   "cell_type": "code",
   "execution_count": 3,
   "metadata": {
    "colab": {
     "base_uri": "https://localhost:8080/"
    },
    "id": "Zdst7ndBIA4-",
    "outputId": "f28c78f3-5217-4256-e6b3-d7fd413ce9da"
   },
   "outputs": [],
   "source": [
    "df = pd.read_csv(\"wage_regularization.csv\")"
   ]
  },
  {
   "cell_type": "code",
   "execution_count": 4,
   "metadata": {
    "colab": {
     "base_uri": "https://localhost:8080/",
     "height": 206
    },
    "id": "EKmjAuSBIA4_",
    "outputId": "344783da-a70a-4300-ee5c-c5792e8e0d37"
   },
   "outputs": [
    {
     "data": {
      "text/html": [
       "<div>\n",
       "<style scoped>\n",
       "    .dataframe tbody tr th:only-of-type {\n",
       "        vertical-align: middle;\n",
       "    }\n",
       "\n",
       "    .dataframe tbody tr th {\n",
       "        vertical-align: top;\n",
       "    }\n",
       "\n",
       "    .dataframe thead th {\n",
       "        text-align: right;\n",
       "    }\n",
       "</style>\n",
       "<table border=\"1\" class=\"dataframe\">\n",
       "  <thead>\n",
       "    <tr style=\"text-align: right;\">\n",
       "      <th></th>\n",
       "      <th>wage</th>\n",
       "      <th>educ</th>\n",
       "      <th>educ2</th>\n",
       "      <th>educ3</th>\n",
       "      <th>educ4</th>\n",
       "      <th>educ5</th>\n",
       "      <th>age</th>\n",
       "      <th>age2</th>\n",
       "      <th>age3</th>\n",
       "      <th>age4</th>\n",
       "      <th>age5</th>\n",
       "    </tr>\n",
       "  </thead>\n",
       "  <tbody>\n",
       "    <tr>\n",
       "      <th>0</th>\n",
       "      <td>769000.0</td>\n",
       "      <td>12</td>\n",
       "      <td>144</td>\n",
       "      <td>1728</td>\n",
       "      <td>20736</td>\n",
       "      <td>248832</td>\n",
       "      <td>31</td>\n",
       "      <td>961</td>\n",
       "      <td>29791</td>\n",
       "      <td>923521</td>\n",
       "      <td>28629151</td>\n",
       "    </tr>\n",
       "    <tr>\n",
       "      <th>1</th>\n",
       "      <td>808000.0</td>\n",
       "      <td>18</td>\n",
       "      <td>324</td>\n",
       "      <td>5832</td>\n",
       "      <td>104976</td>\n",
       "      <td>1889568</td>\n",
       "      <td>37</td>\n",
       "      <td>1369</td>\n",
       "      <td>50653</td>\n",
       "      <td>1874161</td>\n",
       "      <td>69343957</td>\n",
       "    </tr>\n",
       "    <tr>\n",
       "      <th>2</th>\n",
       "      <td>825000.0</td>\n",
       "      <td>14</td>\n",
       "      <td>196</td>\n",
       "      <td>2744</td>\n",
       "      <td>38416</td>\n",
       "      <td>537824</td>\n",
       "      <td>33</td>\n",
       "      <td>1089</td>\n",
       "      <td>35937</td>\n",
       "      <td>1185921</td>\n",
       "      <td>39135393</td>\n",
       "    </tr>\n",
       "    <tr>\n",
       "      <th>3</th>\n",
       "      <td>650000.0</td>\n",
       "      <td>12</td>\n",
       "      <td>144</td>\n",
       "      <td>1728</td>\n",
       "      <td>20736</td>\n",
       "      <td>248832</td>\n",
       "      <td>32</td>\n",
       "      <td>1024</td>\n",
       "      <td>32768</td>\n",
       "      <td>1048576</td>\n",
       "      <td>33554432</td>\n",
       "    </tr>\n",
       "    <tr>\n",
       "      <th>4</th>\n",
       "      <td>562000.0</td>\n",
       "      <td>11</td>\n",
       "      <td>121</td>\n",
       "      <td>1331</td>\n",
       "      <td>14641</td>\n",
       "      <td>161051</td>\n",
       "      <td>34</td>\n",
       "      <td>1156</td>\n",
       "      <td>39304</td>\n",
       "      <td>1336336</td>\n",
       "      <td>45435424</td>\n",
       "    </tr>\n",
       "  </tbody>\n",
       "</table>\n",
       "</div>"
      ],
      "text/plain": [
       "       wage  educ  educ2  educ3   educ4    educ5  age  age2   age3     age4  \\\n",
       "0  769000.0    12    144   1728   20736   248832   31   961  29791   923521   \n",
       "1  808000.0    18    324   5832  104976  1889568   37  1369  50653  1874161   \n",
       "2  825000.0    14    196   2744   38416   537824   33  1089  35937  1185921   \n",
       "3  650000.0    12    144   1728   20736   248832   32  1024  32768  1048576   \n",
       "4  562000.0    11    121   1331   14641   161051   34  1156  39304  1336336   \n",
       "\n",
       "       age5  \n",
       "0  28629151  \n",
       "1  69343957  \n",
       "2  39135393  \n",
       "3  33554432  \n",
       "4  45435424  "
      ]
     },
     "execution_count": 4,
     "metadata": {},
     "output_type": "execute_result"
    }
   ],
   "source": [
    "df.head()"
   ]
  },
  {
   "cell_type": "markdown",
   "metadata": {
    "id": "TuNrB5_ZIA5B"
   },
   "source": [
    "**important**: we need to normalize the features before training the models. Why? \n"
   ]
  },
  {
   "cell_type": "code",
   "execution_count": 5,
   "metadata": {
    "id": "i2MM-8G7IA5B"
   },
   "outputs": [],
   "source": [
    "from sklearn.preprocessing import StandardScaler"
   ]
  },
  {
   "cell_type": "code",
   "execution_count": 6,
   "metadata": {
    "colab": {
     "base_uri": "https://localhost:8080/"
    },
    "id": "63qOf0lVIA5C",
    "outputId": "2428dfed-52c0-4716-b8ba-2f7b02572eb6"
   },
   "outputs": [
    {
     "data": {
      "text/plain": [
       "array([[-0.46751952, -0.66885143, -0.681389  , ..., -0.70895446,\n",
       "        -0.72303072, -0.73357606],\n",
       "       [-0.37101938,  2.06403752,  2.2236843 , ...,  1.29793053,\n",
       "         1.31081019,  1.32021092],\n",
       "       [-0.32895523,  0.24211155,  0.1578544 , ..., -0.11772087,\n",
       "        -0.16164066, -0.20360711],\n",
       "       ...,\n",
       "       [-1.03909722, -0.66885143, -0.681389  , ..., -1.46305145,\n",
       "        -1.38383005, -1.30957655],\n",
       "       [-0.21018583, -0.66885143, -0.681389  , ..., -1.46305145,\n",
       "        -1.38383005, -1.30957655],\n",
       "       [ 0.10405818, -0.66885143, -0.681389  , ...,  0.54970162,\n",
       "         0.51165088,  0.4716505 ]])"
      ]
     },
     "execution_count": 6,
     "metadata": {},
     "output_type": "execute_result"
    }
   ],
   "source": [
    "# Standardize all the variables using StandarScaler() class from sklearn package.\n",
    "# With the standardized variables, make a new data frame and call it df_sc.\n",
    "scaler=StandardScaler()\n",
    "df_sc= scaler.fit_transform(df)\n",
    "df_sc"
   ]
  },
  {
   "cell_type": "code",
   "execution_count": 7,
   "metadata": {
    "colab": {
     "base_uri": "https://localhost:8080/",
     "height": 300
    },
    "id": "WwUQMPYAIA5C",
    "outputId": "da8d67ad-ef91-44b6-ed3a-71f53961c154"
   },
   "outputs": [
    {
     "data": {
      "text/html": [
       "<div>\n",
       "<style scoped>\n",
       "    .dataframe tbody tr th:only-of-type {\n",
       "        vertical-align: middle;\n",
       "    }\n",
       "\n",
       "    .dataframe tbody tr th {\n",
       "        vertical-align: top;\n",
       "    }\n",
       "\n",
       "    .dataframe thead th {\n",
       "        text-align: right;\n",
       "    }\n",
       "</style>\n",
       "<table border=\"1\" class=\"dataframe\">\n",
       "  <thead>\n",
       "    <tr style=\"text-align: right;\">\n",
       "      <th></th>\n",
       "      <th>wage</th>\n",
       "      <th>educ</th>\n",
       "      <th>educ2</th>\n",
       "      <th>educ3</th>\n",
       "      <th>educ4</th>\n",
       "      <th>educ5</th>\n",
       "      <th>age</th>\n",
       "      <th>age2</th>\n",
       "      <th>age3</th>\n",
       "      <th>age4</th>\n",
       "      <th>age5</th>\n",
       "    </tr>\n",
       "  </thead>\n",
       "  <tbody>\n",
       "    <tr>\n",
       "      <th>count</th>\n",
       "      <td>9.350000e+02</td>\n",
       "      <td>935.000000</td>\n",
       "      <td>935.000000</td>\n",
       "      <td>935.000000</td>\n",
       "      <td>935.000000</td>\n",
       "      <td>9.350000e+02</td>\n",
       "      <td>935.000000</td>\n",
       "      <td>935.000000</td>\n",
       "      <td>935.00000</td>\n",
       "      <td>9.350000e+02</td>\n",
       "      <td>9.350000e+02</td>\n",
       "    </tr>\n",
       "    <tr>\n",
       "      <th>mean</th>\n",
       "      <td>9.579455e+05</td>\n",
       "      <td>13.468449</td>\n",
       "      <td>186.219251</td>\n",
       "      <td>2643.720856</td>\n",
       "      <td>38516.721925</td>\n",
       "      <td>5.751197e+05</td>\n",
       "      <td>33.080214</td>\n",
       "      <td>1103.948663</td>\n",
       "      <td>37160.73369</td>\n",
       "      <td>1.261474e+06</td>\n",
       "      <td>4.317175e+07</td>\n",
       "    </tr>\n",
       "    <tr>\n",
       "      <th>std</th>\n",
       "      <td>4.043608e+05</td>\n",
       "      <td>2.196654</td>\n",
       "      <td>61.993732</td>\n",
       "      <td>1340.538368</td>\n",
       "      <td>26273.534179</td>\n",
       "      <td>4.914620e+05</td>\n",
       "      <td>3.107803</td>\n",
       "      <td>206.922193</td>\n",
       "      <td>10400.77792</td>\n",
       "      <td>4.676613e+05</td>\n",
       "      <td>1.983487e+07</td>\n",
       "    </tr>\n",
       "    <tr>\n",
       "      <th>min</th>\n",
       "      <td>1.150000e+05</td>\n",
       "      <td>9.000000</td>\n",
       "      <td>81.000000</td>\n",
       "      <td>729.000000</td>\n",
       "      <td>6561.000000</td>\n",
       "      <td>5.904900e+04</td>\n",
       "      <td>28.000000</td>\n",
       "      <td>784.000000</td>\n",
       "      <td>21952.00000</td>\n",
       "      <td>6.146560e+05</td>\n",
       "      <td>1.721037e+07</td>\n",
       "    </tr>\n",
       "    <tr>\n",
       "      <th>25%</th>\n",
       "      <td>6.690000e+05</td>\n",
       "      <td>12.000000</td>\n",
       "      <td>144.000000</td>\n",
       "      <td>1728.000000</td>\n",
       "      <td>20736.000000</td>\n",
       "      <td>2.488320e+05</td>\n",
       "      <td>30.000000</td>\n",
       "      <td>900.000000</td>\n",
       "      <td>27000.00000</td>\n",
       "      <td>8.100000e+05</td>\n",
       "      <td>2.430000e+07</td>\n",
       "    </tr>\n",
       "    <tr>\n",
       "      <th>50%</th>\n",
       "      <td>9.050000e+05</td>\n",
       "      <td>12.000000</td>\n",
       "      <td>144.000000</td>\n",
       "      <td>1728.000000</td>\n",
       "      <td>20736.000000</td>\n",
       "      <td>2.488320e+05</td>\n",
       "      <td>33.000000</td>\n",
       "      <td>1089.000000</td>\n",
       "      <td>35937.00000</td>\n",
       "      <td>1.185921e+06</td>\n",
       "      <td>3.913539e+07</td>\n",
       "    </tr>\n",
       "    <tr>\n",
       "      <th>75%</th>\n",
       "      <td>1.160000e+06</td>\n",
       "      <td>16.000000</td>\n",
       "      <td>256.000000</td>\n",
       "      <td>4096.000000</td>\n",
       "      <td>65536.000000</td>\n",
       "      <td>1.048576e+06</td>\n",
       "      <td>36.000000</td>\n",
       "      <td>1296.000000</td>\n",
       "      <td>46656.00000</td>\n",
       "      <td>1.679616e+06</td>\n",
       "      <td>6.046618e+07</td>\n",
       "    </tr>\n",
       "    <tr>\n",
       "      <th>max</th>\n",
       "      <td>3.078000e+06</td>\n",
       "      <td>18.000000</td>\n",
       "      <td>324.000000</td>\n",
       "      <td>5832.000000</td>\n",
       "      <td>104976.000000</td>\n",
       "      <td>1.889568e+06</td>\n",
       "      <td>38.000000</td>\n",
       "      <td>1444.000000</td>\n",
       "      <td>54872.00000</td>\n",
       "      <td>2.085136e+06</td>\n",
       "      <td>7.923517e+07</td>\n",
       "    </tr>\n",
       "  </tbody>\n",
       "</table>\n",
       "</div>"
      ],
      "text/plain": [
       "               wage        educ       educ2        educ3          educ4  \\\n",
       "count  9.350000e+02  935.000000  935.000000   935.000000     935.000000   \n",
       "mean   9.579455e+05   13.468449  186.219251  2643.720856   38516.721925   \n",
       "std    4.043608e+05    2.196654   61.993732  1340.538368   26273.534179   \n",
       "min    1.150000e+05    9.000000   81.000000   729.000000    6561.000000   \n",
       "25%    6.690000e+05   12.000000  144.000000  1728.000000   20736.000000   \n",
       "50%    9.050000e+05   12.000000  144.000000  1728.000000   20736.000000   \n",
       "75%    1.160000e+06   16.000000  256.000000  4096.000000   65536.000000   \n",
       "max    3.078000e+06   18.000000  324.000000  5832.000000  104976.000000   \n",
       "\n",
       "              educ5         age         age2         age3          age4  \\\n",
       "count  9.350000e+02  935.000000   935.000000    935.00000  9.350000e+02   \n",
       "mean   5.751197e+05   33.080214  1103.948663  37160.73369  1.261474e+06   \n",
       "std    4.914620e+05    3.107803   206.922193  10400.77792  4.676613e+05   \n",
       "min    5.904900e+04   28.000000   784.000000  21952.00000  6.146560e+05   \n",
       "25%    2.488320e+05   30.000000   900.000000  27000.00000  8.100000e+05   \n",
       "50%    2.488320e+05   33.000000  1089.000000  35937.00000  1.185921e+06   \n",
       "75%    1.048576e+06   36.000000  1296.000000  46656.00000  1.679616e+06   \n",
       "max    1.889568e+06   38.000000  1444.000000  54872.00000  2.085136e+06   \n",
       "\n",
       "               age5  \n",
       "count  9.350000e+02  \n",
       "mean   4.317175e+07  \n",
       "std    1.983487e+07  \n",
       "min    1.721037e+07  \n",
       "25%    2.430000e+07  \n",
       "50%    3.913539e+07  \n",
       "75%    6.046618e+07  \n",
       "max    7.923517e+07  "
      ]
     },
     "execution_count": 7,
     "metadata": {},
     "output_type": "execute_result"
    }
   ],
   "source": [
    "df.describe()"
   ]
  },
  {
   "cell_type": "code",
   "execution_count": 8,
   "metadata": {
    "colab": {
     "base_uri": "https://localhost:8080/"
    },
    "id": "uzXejMBkIA5D",
    "outputId": "cae5e773-aa50-4e6c-e307-144b8cecfd53"
   },
   "outputs": [
    {
     "data": {
      "text/plain": [
       "Index(['wage', 'educ', 'educ2', 'educ3', 'educ4', 'educ5', 'age', 'age2',\n",
       "       'age3', 'age4', 'age5'],\n",
       "      dtype='object')"
      ]
     },
     "execution_count": 8,
     "metadata": {},
     "output_type": "execute_result"
    }
   ],
   "source": [
    "df.columns"
   ]
  },
  {
   "cell_type": "code",
   "execution_count": 9,
   "metadata": {
    "colab": {
     "base_uri": "https://localhost:8080/",
     "height": 206
    },
    "id": "XocLJKV3IA5D",
    "outputId": "1b49919c-d71e-4fd7-f3bc-e4c8c7b52bfe"
   },
   "outputs": [
    {
     "data": {
      "text/html": [
       "<div>\n",
       "<style scoped>\n",
       "    .dataframe tbody tr th:only-of-type {\n",
       "        vertical-align: middle;\n",
       "    }\n",
       "\n",
       "    .dataframe tbody tr th {\n",
       "        vertical-align: top;\n",
       "    }\n",
       "\n",
       "    .dataframe thead th {\n",
       "        text-align: right;\n",
       "    }\n",
       "</style>\n",
       "<table border=\"1\" class=\"dataframe\">\n",
       "  <thead>\n",
       "    <tr style=\"text-align: right;\">\n",
       "      <th></th>\n",
       "      <th>wage</th>\n",
       "      <th>educ</th>\n",
       "      <th>educ2</th>\n",
       "      <th>educ3</th>\n",
       "      <th>educ4</th>\n",
       "      <th>educ5</th>\n",
       "      <th>age</th>\n",
       "      <th>age2</th>\n",
       "      <th>age3</th>\n",
       "      <th>age4</th>\n",
       "      <th>age5</th>\n",
       "    </tr>\n",
       "  </thead>\n",
       "  <tbody>\n",
       "    <tr>\n",
       "      <th>0</th>\n",
       "      <td>-0.467520</td>\n",
       "      <td>-0.668851</td>\n",
       "      <td>-0.681389</td>\n",
       "      <td>-0.683465</td>\n",
       "      <td>-0.677116</td>\n",
       "      <td>-0.664268</td>\n",
       "      <td>-0.669710</td>\n",
       "      <td>-0.691203</td>\n",
       "      <td>-0.708954</td>\n",
       "      <td>-0.723031</td>\n",
       "      <td>-0.733576</td>\n",
       "    </tr>\n",
       "    <tr>\n",
       "      <th>1</th>\n",
       "      <td>-0.371019</td>\n",
       "      <td>2.064038</td>\n",
       "      <td>2.223684</td>\n",
       "      <td>2.379630</td>\n",
       "      <td>2.530868</td>\n",
       "      <td>2.675999</td>\n",
       "      <td>1.261947</td>\n",
       "      <td>1.281608</td>\n",
       "      <td>1.297931</td>\n",
       "      <td>1.310810</td>\n",
       "      <td>1.320211</td>\n",
       "    </tr>\n",
       "    <tr>\n",
       "      <th>2</th>\n",
       "      <td>-0.328955</td>\n",
       "      <td>0.242112</td>\n",
       "      <td>0.157854</td>\n",
       "      <td>0.074845</td>\n",
       "      <td>-0.003836</td>\n",
       "      <td>-0.075928</td>\n",
       "      <td>-0.025824</td>\n",
       "      <td>-0.072282</td>\n",
       "      <td>-0.117721</td>\n",
       "      <td>-0.161641</td>\n",
       "      <td>-0.203607</td>\n",
       "    </tr>\n",
       "    <tr>\n",
       "      <th>3</th>\n",
       "      <td>-0.761969</td>\n",
       "      <td>-0.668851</td>\n",
       "      <td>-0.681389</td>\n",
       "      <td>-0.683465</td>\n",
       "      <td>-0.677116</td>\n",
       "      <td>-0.664268</td>\n",
       "      <td>-0.347767</td>\n",
       "      <td>-0.386577</td>\n",
       "      <td>-0.422573</td>\n",
       "      <td>-0.455483</td>\n",
       "      <td>-0.485129</td>\n",
       "    </tr>\n",
       "    <tr>\n",
       "      <th>4</th>\n",
       "      <td>-0.979713</td>\n",
       "      <td>-1.124333</td>\n",
       "      <td>-1.052593</td>\n",
       "      <td>-0.979773</td>\n",
       "      <td>-0.909223</td>\n",
       "      <td>-0.842975</td>\n",
       "      <td>0.296119</td>\n",
       "      <td>0.251685</td>\n",
       "      <td>0.206178</td>\n",
       "      <td>0.160164</td>\n",
       "      <td>0.114187</td>\n",
       "    </tr>\n",
       "  </tbody>\n",
       "</table>\n",
       "</div>"
      ],
      "text/plain": [
       "       wage      educ     educ2     educ3     educ4     educ5       age  \\\n",
       "0 -0.467520 -0.668851 -0.681389 -0.683465 -0.677116 -0.664268 -0.669710   \n",
       "1 -0.371019  2.064038  2.223684  2.379630  2.530868  2.675999  1.261947   \n",
       "2 -0.328955  0.242112  0.157854  0.074845 -0.003836 -0.075928 -0.025824   \n",
       "3 -0.761969 -0.668851 -0.681389 -0.683465 -0.677116 -0.664268 -0.347767   \n",
       "4 -0.979713 -1.124333 -1.052593 -0.979773 -0.909223 -0.842975  0.296119   \n",
       "\n",
       "       age2      age3      age4      age5  \n",
       "0 -0.691203 -0.708954 -0.723031 -0.733576  \n",
       "1  1.281608  1.297931  1.310810  1.320211  \n",
       "2 -0.072282 -0.117721 -0.161641 -0.203607  \n",
       "3 -0.386577 -0.422573 -0.455483 -0.485129  \n",
       "4  0.251685  0.206178  0.160164  0.114187  "
      ]
     },
     "execution_count": 9,
     "metadata": {},
     "output_type": "execute_result"
    }
   ],
   "source": [
    "df_sc = pd.DataFrame(df_sc, columns=df.columns)\n",
    "df_sc.head()"
   ]
  },
  {
   "cell_type": "markdown",
   "metadata": {
    "id": "av06HlIhIA5E"
   },
   "source": [
    "###  Splitting the data"
   ]
  },
  {
   "cell_type": "code",
   "execution_count": 10,
   "metadata": {
    "colab": {
     "base_uri": "https://localhost:8080/",
     "height": 206
    },
    "id": "CuUWuBjpIA5E",
    "outputId": "7dfa2da4-45ab-4ca1-ee88-04ebb7697f31"
   },
   "outputs": [
    {
     "data": {
      "text/html": [
       "<div>\n",
       "<style scoped>\n",
       "    .dataframe tbody tr th:only-of-type {\n",
       "        vertical-align: middle;\n",
       "    }\n",
       "\n",
       "    .dataframe tbody tr th {\n",
       "        vertical-align: top;\n",
       "    }\n",
       "\n",
       "    .dataframe thead th {\n",
       "        text-align: right;\n",
       "    }\n",
       "</style>\n",
       "<table border=\"1\" class=\"dataframe\">\n",
       "  <thead>\n",
       "    <tr style=\"text-align: right;\">\n",
       "      <th></th>\n",
       "      <th>educ</th>\n",
       "      <th>educ2</th>\n",
       "      <th>educ3</th>\n",
       "      <th>educ4</th>\n",
       "      <th>educ5</th>\n",
       "      <th>age</th>\n",
       "      <th>age2</th>\n",
       "      <th>age3</th>\n",
       "      <th>age4</th>\n",
       "      <th>age5</th>\n",
       "    </tr>\n",
       "  </thead>\n",
       "  <tbody>\n",
       "    <tr>\n",
       "      <th>932</th>\n",
       "      <td>-0.668851</td>\n",
       "      <td>-0.681389</td>\n",
       "      <td>-0.683465</td>\n",
       "      <td>-0.677116</td>\n",
       "      <td>-0.664268</td>\n",
       "      <td>-1.635539</td>\n",
       "      <td>-1.547054</td>\n",
       "      <td>-1.463051</td>\n",
       "      <td>-1.383830</td>\n",
       "      <td>-1.309577</td>\n",
       "    </tr>\n",
       "    <tr>\n",
       "      <th>82</th>\n",
       "      <td>-1.124333</td>\n",
       "      <td>-1.052593</td>\n",
       "      <td>-0.979773</td>\n",
       "      <td>-0.909223</td>\n",
       "      <td>-0.842975</td>\n",
       "      <td>1.261947</td>\n",
       "      <td>1.281608</td>\n",
       "      <td>1.297931</td>\n",
       "      <td>1.310810</td>\n",
       "      <td>1.320211</td>\n",
       "    </tr>\n",
       "    <tr>\n",
       "      <th>370</th>\n",
       "      <td>1.608556</td>\n",
       "      <td>1.658809</td>\n",
       "      <td>1.693718</td>\n",
       "      <td>1.713830</td>\n",
       "      <td>1.719745</td>\n",
       "      <td>1.583890</td>\n",
       "      <td>1.644257</td>\n",
       "      <td>1.703790</td>\n",
       "      <td>1.762179</td>\n",
       "      <td>1.819156</td>\n",
       "    </tr>\n",
       "    <tr>\n",
       "      <th>452</th>\n",
       "      <td>-0.668851</td>\n",
       "      <td>-0.681389</td>\n",
       "      <td>-0.683465</td>\n",
       "      <td>-0.677116</td>\n",
       "      <td>-0.664268</td>\n",
       "      <td>0.940004</td>\n",
       "      <td>0.928630</td>\n",
       "      <td>0.913427</td>\n",
       "      <td>0.894592</td>\n",
       "      <td>0.872387</td>\n",
       "    </tr>\n",
       "    <tr>\n",
       "      <th>132</th>\n",
       "      <td>-0.668851</td>\n",
       "      <td>-0.681389</td>\n",
       "      <td>-0.683465</td>\n",
       "      <td>-0.677116</td>\n",
       "      <td>-0.664268</td>\n",
       "      <td>-0.669710</td>\n",
       "      <td>-0.691203</td>\n",
       "      <td>-0.708954</td>\n",
       "      <td>-0.723031</td>\n",
       "      <td>-0.733576</td>\n",
       "    </tr>\n",
       "  </tbody>\n",
       "</table>\n",
       "</div>"
      ],
      "text/plain": [
       "         educ     educ2     educ3     educ4     educ5       age      age2  \\\n",
       "932 -0.668851 -0.681389 -0.683465 -0.677116 -0.664268 -1.635539 -1.547054   \n",
       "82  -1.124333 -1.052593 -0.979773 -0.909223 -0.842975  1.261947  1.281608   \n",
       "370  1.608556  1.658809  1.693718  1.713830  1.719745  1.583890  1.644257   \n",
       "452 -0.668851 -0.681389 -0.683465 -0.677116 -0.664268  0.940004  0.928630   \n",
       "132 -0.668851 -0.681389 -0.683465 -0.677116 -0.664268 -0.669710 -0.691203   \n",
       "\n",
       "         age3      age4      age5  \n",
       "932 -1.463051 -1.383830 -1.309577  \n",
       "82   1.297931  1.310810  1.320211  \n",
       "370  1.703790  1.762179  1.819156  \n",
       "452  0.913427  0.894592  0.872387  \n",
       "132 -0.708954 -0.723031 -0.733576  "
      ]
     },
     "execution_count": 10,
     "metadata": {},
     "output_type": "execute_result"
    }
   ],
   "source": [
    "# Define your feature space and target variables and then split the data into test (20%) and train set (80%)\n",
    "\n",
    "y = df_sc['wage']\n",
    "X = df_sc.drop('wage', axis=1) # becareful inplace= False\n",
    "\n",
    "from sklearn.model_selection import train_test_split\n",
    "X_train, X_test, y_train, y_test = train_test_split(X, y, test_size=0.2, random_state=rand_state)\n",
    "X_train.head()"
   ]
  },
  {
   "cell_type": "code",
   "execution_count": 39,
   "metadata": {},
   "outputs": [
    {
     "data": {
      "text/html": [
       "<table class=\"simpletable\">\n",
       "<caption>OLS Regression Results</caption>\n",
       "<tr>\n",
       "  <th>Dep. Variable:</th>          <td>wage</td>       <th>  R-squared:         </th> <td>   0.128</td>\n",
       "</tr>\n",
       "<tr>\n",
       "  <th>Model:</th>                   <td>OLS</td>       <th>  Adj. R-squared:    </th> <td>   0.116</td>\n",
       "</tr>\n",
       "<tr>\n",
       "  <th>Method:</th>             <td>Least Squares</td>  <th>  F-statistic:       </th> <td>   10.81</td>\n",
       "</tr>\n",
       "<tr>\n",
       "  <th>Date:</th>             <td>Thu, 06 Oct 2022</td> <th>  Prob (F-statistic):</th> <td>2.83e-17</td>\n",
       "</tr>\n",
       "<tr>\n",
       "  <th>Time:</th>                 <td>12:18:15</td>     <th>  Log-Likelihood:    </th> <td> -1016.0</td>\n",
       "</tr>\n",
       "<tr>\n",
       "  <th>No. Observations:</th>      <td>   748</td>      <th>  AIC:               </th> <td>   2054.</td>\n",
       "</tr>\n",
       "<tr>\n",
       "  <th>Df Residuals:</th>          <td>   737</td>      <th>  BIC:               </th> <td>   2105.</td>\n",
       "</tr>\n",
       "<tr>\n",
       "  <th>Df Model:</th>              <td>    10</td>      <th>                     </th>     <td> </td>   \n",
       "</tr>\n",
       "<tr>\n",
       "  <th>Covariance Type:</th>      <td>nonrobust</td>    <th>                     </th>     <td> </td>   \n",
       "</tr>\n",
       "</table>\n",
       "<table class=\"simpletable\">\n",
       "<tr>\n",
       "    <td></td>       <th>coef</th>     <th>std err</th>      <th>t</th>      <th>P>|t|</th>  <th>[0.025</th>    <th>0.975]</th>  \n",
       "</tr>\n",
       "<tr>\n",
       "  <th>const</th> <td>   -0.0028</td> <td>    0.035</td> <td>   -0.080</td> <td> 0.937</td> <td>   -0.071</td> <td>    0.065</td>\n",
       "</tr>\n",
       "<tr>\n",
       "  <th>educ</th>  <td> -109.9917</td> <td>  192.003</td> <td>   -0.573</td> <td> 0.567</td> <td> -486.931</td> <td>  266.947</td>\n",
       "</tr>\n",
       "<tr>\n",
       "  <th>educ2</th> <td>  462.5622</td> <td>  824.114</td> <td>    0.561</td> <td> 0.575</td> <td>-1155.328</td> <td> 2080.452</td>\n",
       "</tr>\n",
       "<tr>\n",
       "  <th>educ3</th> <td> -736.3809</td> <td> 1339.181</td> <td>   -0.550</td> <td> 0.583</td> <td>-3365.445</td> <td> 1892.684</td>\n",
       "</tr>\n",
       "<tr>\n",
       "  <th>educ4</th> <td>  527.4761</td> <td>  974.843</td> <td>    0.541</td> <td> 0.589</td> <td>-1386.323</td> <td> 2441.276</td>\n",
       "</tr>\n",
       "<tr>\n",
       "  <th>educ5</th> <td> -143.4145</td> <td>  267.848</td> <td>   -0.535</td> <td> 0.593</td> <td> -669.250</td> <td>  382.421</td>\n",
       "</tr>\n",
       "<tr>\n",
       "  <th>age</th>   <td>-1295.3370</td> <td> 4397.692</td> <td>   -0.295</td> <td> 0.768</td> <td>-9928.834</td> <td> 7338.160</td>\n",
       "</tr>\n",
       "<tr>\n",
       "  <th>age2</th>  <td> 5164.4620</td> <td> 1.79e+04</td> <td>    0.289</td> <td> 0.773</td> <td>-2.99e+04</td> <td> 4.03e+04</td>\n",
       "</tr>\n",
       "<tr>\n",
       "  <th>age3</th>  <td>-7783.0117</td> <td> 2.73e+04</td> <td>   -0.285</td> <td> 0.776</td> <td>-6.15e+04</td> <td> 4.59e+04</td>\n",
       "</tr>\n",
       "<tr>\n",
       "  <th>age4</th>  <td> 5255.0538</td> <td> 1.87e+04</td> <td>    0.282</td> <td> 0.778</td> <td>-3.14e+04</td> <td> 4.19e+04</td>\n",
       "</tr>\n",
       "<tr>\n",
       "  <th>age5</th>  <td>-1341.0610</td> <td> 4794.082</td> <td>   -0.280</td> <td> 0.780</td> <td>-1.08e+04</td> <td> 8070.622</td>\n",
       "</tr>\n",
       "</table>\n",
       "<table class=\"simpletable\">\n",
       "<tr>\n",
       "  <th>Omnibus:</th>       <td>202.208</td> <th>  Durbin-Watson:     </th> <td>   1.936</td> \n",
       "</tr>\n",
       "<tr>\n",
       "  <th>Prob(Omnibus):</th> <td> 0.000</td>  <th>  Jarque-Bera (JB):  </th> <td> 653.255</td> \n",
       "</tr>\n",
       "<tr>\n",
       "  <th>Skew:</th>          <td> 1.286</td>  <th>  Prob(JB):          </th> <td>1.40e-142</td>\n",
       "</tr>\n",
       "<tr>\n",
       "  <th>Kurtosis:</th>      <td> 6.787</td>  <th>  Cond. No.          </th> <td>2.44e+06</td> \n",
       "</tr>\n",
       "</table><br/><br/>Notes:<br/>[1] Standard Errors assume that the covariance matrix of the errors is correctly specified.<br/>[2] The condition number is large, 2.44e+06. This might indicate that there are<br/>strong multicollinearity or other numerical problems."
      ],
      "text/plain": [
       "<class 'statsmodels.iolib.summary.Summary'>\n",
       "\"\"\"\n",
       "                            OLS Regression Results                            \n",
       "==============================================================================\n",
       "Dep. Variable:                   wage   R-squared:                       0.128\n",
       "Model:                            OLS   Adj. R-squared:                  0.116\n",
       "Method:                 Least Squares   F-statistic:                     10.81\n",
       "Date:                Thu, 06 Oct 2022   Prob (F-statistic):           2.83e-17\n",
       "Time:                        12:18:15   Log-Likelihood:                -1016.0\n",
       "No. Observations:                 748   AIC:                             2054.\n",
       "Df Residuals:                     737   BIC:                             2105.\n",
       "Df Model:                          10                                         \n",
       "Covariance Type:            nonrobust                                         \n",
       "==============================================================================\n",
       "                 coef    std err          t      P>|t|      [0.025      0.975]\n",
       "------------------------------------------------------------------------------\n",
       "const         -0.0028      0.035     -0.080      0.937      -0.071       0.065\n",
       "educ        -109.9917    192.003     -0.573      0.567    -486.931     266.947\n",
       "educ2        462.5622    824.114      0.561      0.575   -1155.328    2080.452\n",
       "educ3       -736.3809   1339.181     -0.550      0.583   -3365.445    1892.684\n",
       "educ4        527.4761    974.843      0.541      0.589   -1386.323    2441.276\n",
       "educ5       -143.4145    267.848     -0.535      0.593    -669.250     382.421\n",
       "age        -1295.3370   4397.692     -0.295      0.768   -9928.834    7338.160\n",
       "age2        5164.4620   1.79e+04      0.289      0.773   -2.99e+04    4.03e+04\n",
       "age3       -7783.0117   2.73e+04     -0.285      0.776   -6.15e+04    4.59e+04\n",
       "age4        5255.0538   1.87e+04      0.282      0.778   -3.14e+04    4.19e+04\n",
       "age5       -1341.0610   4794.082     -0.280      0.780   -1.08e+04    8070.622\n",
       "==============================================================================\n",
       "Omnibus:                      202.208   Durbin-Watson:                   1.936\n",
       "Prob(Omnibus):                  0.000   Jarque-Bera (JB):              653.255\n",
       "Skew:                           1.286   Prob(JB):                    1.40e-142\n",
       "Kurtosis:                       6.787   Cond. No.                     2.44e+06\n",
       "==============================================================================\n",
       "\n",
       "Notes:\n",
       "[1] Standard Errors assume that the covariance matrix of the errors is correctly specified.\n",
       "[2] The condition number is large, 2.44e+06. This might indicate that there are\n",
       "strong multicollinearity or other numerical problems.\n",
       "\"\"\""
      ]
     },
     "execution_count": 39,
     "metadata": {},
     "output_type": "execute_result"
    }
   ],
   "source": [
    "# As a benchmark, use sm.OLS() function from statsmodel.api package to run the linear regression model\n",
    "# on the train set.\n",
    "X_test_wc = sm.add_constant(X_test)\n",
    "X_train_wc = sm.add_constant(X_train)\n",
    "\n",
    "model = sm.OLS(y_train, X_train_wc).fit()\n",
    "model.summary(b)"
   ]
  },
  {
   "cell_type": "code",
   "execution_count": 41,
   "metadata": {},
   "outputs": [
    {
     "name": "stdout",
     "output_type": "stream",
     "text": [
      "0.12792312252530325\n"
     ]
    }
   ],
   "source": [
    "# From the summary report, What is the R-squared of the model in train set?\n",
    "print(model.rsquared)"
   ]
  },
  {
   "cell_type": "code",
   "execution_count": null,
   "metadata": {},
   "outputs": [],
   "source": [
    "# Are any of the features statistically significant at 5% level? (2 points)"
   ]
  },
  {
   "cell_type": "markdown",
   "metadata": {
    "id": "QDo8qK7vIA5G"
   },
   "source": [
    "----"
   ]
  },
  {
   "cell_type": "markdown",
   "metadata": {
    "id": "9gUHgw-GIA5G"
   },
   "source": [
    "# A) Training the models \n",
    "\n",
    "In this section we will train 4 different models:\n",
    "1. Linear regression (model_linear)\n",
    "2. Ridge regression (model_ridge)\n",
    "3. Lasso regression (model_lasso)\n",
    "4. Elastic Net regression (model_net)"
   ]
  },
  {
   "cell_type": "code",
   "execution_count": 12,
   "metadata": {
    "id": "SPBEUMjjIA5G"
   },
   "outputs": [],
   "source": [
    "from sklearn.linear_model import LinearRegression, Ridge,RidgeCV, Lasso, LassoCV, ElasticNet, ElasticNetCV"
   ]
  },
  {
   "cell_type": "code",
   "execution_count": 42,
   "metadata": {
    "id": "_48KtjjeIA5G"
   },
   "outputs": [],
   "source": [
    "# From sklearn.linear_model import the relevant functions for Linear Regression,\n",
    "# Ridge, Lasso and ElasticNet regression functions.\n",
    "\n",
    "model_linear = LinearRegression()\n",
    "model_ridge = Ridge(0)\n",
    "model_lasso = Lasso(0)\n",
    "model_net = ElasticNet(0)"
   ]
  },
  {
   "cell_type": "code",
   "execution_count": 14,
   "metadata": {
    "id": "aiNHWd1sIA5H"
   },
   "outputs": [],
   "source": [
    "# Train all the 4 models with the default features. (5 points)\n",
    "y_hat_linear= model_linear.fit(X_train, y_train).predict(X_test)\n",
    "y_hat_ridge = model_ridge.fit(X_train, y_train).predict(X_test)\n",
    "y_hat_lasso = model_lasso.fit(X_train, y_train).predict(X_test)\n",
    "y_hat_net   = model_net.fit(X_train, y_train).predict(X_test)"
   ]
  },
  {
   "cell_type": "code",
   "execution_count": 15,
   "metadata": {
    "colab": {
     "base_uri": "https://localhost:8080/",
     "height": 206
    },
    "id": "7RGiXtobIA5H",
    "outputId": "54202164-70cc-44e6-fa75-a5407f603c8e"
   },
   "outputs": [
    {
     "data": {
      "text/html": [
       "<div>\n",
       "<style scoped>\n",
       "    .dataframe tbody tr th:only-of-type {\n",
       "        vertical-align: middle;\n",
       "    }\n",
       "\n",
       "    .dataframe tbody tr th {\n",
       "        vertical-align: top;\n",
       "    }\n",
       "\n",
       "    .dataframe thead th {\n",
       "        text-align: right;\n",
       "    }\n",
       "</style>\n",
       "<table border=\"1\" class=\"dataframe\">\n",
       "  <thead>\n",
       "    <tr style=\"text-align: right;\">\n",
       "      <th></th>\n",
       "      <th>y_test</th>\n",
       "      <th>y_hat_linear</th>\n",
       "      <th>y_hat_ridge</th>\n",
       "      <th>y_hat_lasso</th>\n",
       "      <th>y_hat_net</th>\n",
       "    </tr>\n",
       "  </thead>\n",
       "  <tbody>\n",
       "    <tr>\n",
       "      <th>434</th>\n",
       "      <td>0.042199</td>\n",
       "      <td>-0.267170</td>\n",
       "      <td>-0.267175</td>\n",
       "      <td>-0.201887</td>\n",
       "      <td>-0.201887</td>\n",
       "    </tr>\n",
       "    <tr>\n",
       "      <th>238</th>\n",
       "      <td>1.910343</td>\n",
       "      <td>0.699718</td>\n",
       "      <td>0.699738</td>\n",
       "      <td>0.690517</td>\n",
       "      <td>0.690517</td>\n",
       "    </tr>\n",
       "    <tr>\n",
       "      <th>531</th>\n",
       "      <td>-0.700110</td>\n",
       "      <td>-0.065042</td>\n",
       "      <td>-0.065050</td>\n",
       "      <td>0.040769</td>\n",
       "      <td>0.040769</td>\n",
       "    </tr>\n",
       "    <tr>\n",
       "      <th>157</th>\n",
       "      <td>2.328510</td>\n",
       "      <td>0.689508</td>\n",
       "      <td>0.689509</td>\n",
       "      <td>0.642706</td>\n",
       "      <td>0.642706</td>\n",
       "    </tr>\n",
       "    <tr>\n",
       "      <th>601</th>\n",
       "      <td>1.341239</td>\n",
       "      <td>0.208652</td>\n",
       "      <td>0.208633</td>\n",
       "      <td>0.169808</td>\n",
       "      <td>0.169808</td>\n",
       "    </tr>\n",
       "  </tbody>\n",
       "</table>\n",
       "</div>"
      ],
      "text/plain": [
       "       y_test  y_hat_linear  y_hat_ridge  y_hat_lasso  y_hat_net\n",
       "434  0.042199     -0.267170    -0.267175    -0.201887  -0.201887\n",
       "238  1.910343      0.699718     0.699738     0.690517   0.690517\n",
       "531 -0.700110     -0.065042    -0.065050     0.040769   0.040769\n",
       "157  2.328510      0.689508     0.689509     0.642706   0.642706\n",
       "601  1.341239      0.208652     0.208633     0.169808   0.169808"
      ]
     },
     "execution_count": 15,
     "metadata": {},
     "output_type": "execute_result"
    }
   ],
   "source": [
    "# Save the predicted values for the test set in y_hat_linear, y_hat_ridge, y_hat_lasso and y_hat_net.\n",
    "# Construct a data frame named df_predictions with 5 columns. y_test,  and the 4 y_hats from previous part\n",
    "df_predictions = pd.DataFrame({'y_test':y_test,\n",
    "                               'y_hat_linear':y_hat_linear,\n",
    "                               'y_hat_ridge':y_hat_ridge,\n",
    "                               'y_hat_lasso':y_hat_lasso,\n",
    "                               'y_hat_net':y_hat_net})\n",
    "df_predictions.head()"
   ]
  },
  {
   "cell_type": "markdown",
   "metadata": {
    "id": "O1G3mAnYIA5H"
   },
   "source": [
    "### coefficients"
   ]
  },
  {
   "cell_type": "code",
   "execution_count": 16,
   "metadata": {
    "colab": {
     "base_uri": "https://localhost:8080/"
    },
    "id": "3Cwt38HUIA5H",
    "outputId": "d2c3485a-487b-4d09-878c-ffb85e5c4245"
   },
   "outputs": [
    {
     "data": {
      "text/plain": [
       "Index(['educ', 'educ2', 'educ3', 'educ4', 'educ5', 'age', 'age2', 'age3',\n",
       "       'age4', 'age5'],\n",
       "      dtype='object')"
      ]
     },
     "execution_count": 16,
     "metadata": {},
     "output_type": "execute_result"
    }
   ],
   "source": [
    "df.drop('wage', axis=1, inplace=False).columns"
   ]
  },
  {
   "cell_type": "code",
   "execution_count": 17,
   "metadata": {
    "colab": {
     "base_uri": "https://localhost:8080/",
     "height": 457
    },
    "id": "vnzts5f_IA5I",
    "outputId": "ac7779be-3e96-4e91-ec8d-3f912f71d7e2"
   },
   "outputs": [
    {
     "data": {
      "text/html": [
       "<div>\n",
       "<style scoped>\n",
       "    .dataframe tbody tr th:only-of-type {\n",
       "        vertical-align: middle;\n",
       "    }\n",
       "\n",
       "    .dataframe tbody tr th {\n",
       "        vertical-align: top;\n",
       "    }\n",
       "\n",
       "    .dataframe thead th {\n",
       "        text-align: right;\n",
       "    }\n",
       "</style>\n",
       "<table border=\"1\" class=\"dataframe\">\n",
       "  <thead>\n",
       "    <tr style=\"text-align: right;\">\n",
       "      <th></th>\n",
       "      <th>Features</th>\n",
       "      <th>model_lin</th>\n",
       "      <th>model_ridge</th>\n",
       "      <th>model_lasso</th>\n",
       "      <th>model_net</th>\n",
       "    </tr>\n",
       "  </thead>\n",
       "  <tbody>\n",
       "    <tr>\n",
       "      <th>0</th>\n",
       "      <td>educ</td>\n",
       "      <td>-109.991745</td>\n",
       "      <td>-109.994342</td>\n",
       "      <td>0.055649</td>\n",
       "      <td>0.055649</td>\n",
       "    </tr>\n",
       "    <tr>\n",
       "      <th>1</th>\n",
       "      <td>educ2</td>\n",
       "      <td>462.562174</td>\n",
       "      <td>462.573519</td>\n",
       "      <td>0.556008</td>\n",
       "      <td>0.556008</td>\n",
       "    </tr>\n",
       "    <tr>\n",
       "      <th>2</th>\n",
       "      <td>educ3</td>\n",
       "      <td>-736.380870</td>\n",
       "      <td>-736.399649</td>\n",
       "      <td>0.180667</td>\n",
       "      <td>0.180667</td>\n",
       "    </tr>\n",
       "    <tr>\n",
       "      <th>3</th>\n",
       "      <td>educ4</td>\n",
       "      <td>527.476085</td>\n",
       "      <td>527.489994</td>\n",
       "      <td>-0.126316</td>\n",
       "      <td>-0.126316</td>\n",
       "    </tr>\n",
       "    <tr>\n",
       "      <th>4</th>\n",
       "      <td>educ5</td>\n",
       "      <td>-143.414487</td>\n",
       "      <td>-143.418367</td>\n",
       "      <td>-0.365808</td>\n",
       "      <td>-0.365808</td>\n",
       "    </tr>\n",
       "    <tr>\n",
       "      <th>5</th>\n",
       "      <td>age</td>\n",
       "      <td>-1295.337039</td>\n",
       "      <td>-1296.956931</td>\n",
       "      <td>-0.069215</td>\n",
       "      <td>-0.069215</td>\n",
       "    </tr>\n",
       "    <tr>\n",
       "      <th>6</th>\n",
       "      <td>age2</td>\n",
       "      <td>5164.461990</td>\n",
       "      <td>5171.047399</td>\n",
       "      <td>0.301351</td>\n",
       "      <td>0.301351</td>\n",
       "    </tr>\n",
       "    <tr>\n",
       "      <th>7</th>\n",
       "      <td>age3</td>\n",
       "      <td>-7783.011661</td>\n",
       "      <td>-7793.087898</td>\n",
       "      <td>0.134377</td>\n",
       "      <td>0.134377</td>\n",
       "    </tr>\n",
       "    <tr>\n",
       "      <th>8</th>\n",
       "      <td>age4</td>\n",
       "      <td>5255.053777</td>\n",
       "      <td>5261.929836</td>\n",
       "      <td>-0.024705</td>\n",
       "      <td>-0.024705</td>\n",
       "    </tr>\n",
       "    <tr>\n",
       "      <th>9</th>\n",
       "      <td>age5</td>\n",
       "      <td>-1341.061043</td>\n",
       "      <td>-1342.826388</td>\n",
       "      <td>-0.173421</td>\n",
       "      <td>-0.173421</td>\n",
       "    </tr>\n",
       "  </tbody>\n",
       "</table>\n",
       "</div>"
      ],
      "text/plain": [
       "  Features    model_lin  model_ridge  model_lasso  model_net\n",
       "0     educ  -109.991745  -109.994342     0.055649   0.055649\n",
       "1    educ2   462.562174   462.573519     0.556008   0.556008\n",
       "2    educ3  -736.380870  -736.399649     0.180667   0.180667\n",
       "3    educ4   527.476085   527.489994    -0.126316  -0.126316\n",
       "4    educ5  -143.414487  -143.418367    -0.365808  -0.365808\n",
       "5      age -1295.337039 -1296.956931    -0.069215  -0.069215\n",
       "6     age2  5164.461990  5171.047399     0.301351   0.301351\n",
       "7     age3 -7783.011661 -7793.087898     0.134377   0.134377\n",
       "8     age4  5255.053777  5261.929836    -0.024705  -0.024705\n",
       "9     age5 -1341.061043 -1342.826388    -0.173421  -0.173421"
      ]
     },
     "execution_count": 17,
     "metadata": {},
     "output_type": "execute_result"
    }
   ],
   "source": [
    "# Estimate the coefficients from each model and stack them all along with the feature\n",
    "# names in a new data frame named coefficients.\n",
    "\n",
    "coefficients = pd.DataFrame({'Features':df.drop('wage', axis=1, inplace=False).columns})\n",
    "coefficients['model_lin']= model_linear.coef_\n",
    "coefficients['model_ridge']= model_ridge.coef_\n",
    "coefficients['model_lasso']= model_lasso.coef_\n",
    "coefficients['model_net']= model_net.coef_\n",
    "coefficients"
   ]
  },
  {
   "cell_type": "code",
   "execution_count": null,
   "metadata": {},
   "outputs": [],
   "source": [
    "# Why do you think all the coefficients of Lasso and ElasticNet models are zero? (5 points)"
   ]
  },
  {
   "cell_type": "markdown",
   "metadata": {
    "id": "OQpIPVChIA5Q"
   },
   "source": [
    "## Cross Validation "
   ]
  },
  {
   "cell_type": "markdown",
   "metadata": {
    "id": "qvrTAJk4IA5Q"
   },
   "source": [
    "#### 1) Optimal alpha for Ridge regression"
   ]
  },
  {
   "cell_type": "code",
   "execution_count": null,
   "metadata": {},
   "outputs": [],
   "source": [
    "# Use cross validation to find the optimal hyper parameters (alphas) for the penalized regression models.\n",
    "# Save these optimal alphas in a new object. you need to use them in next part."
   ]
  },
  {
   "cell_type": "code",
   "execution_count": 31,
   "metadata": {
    "colab": {
     "base_uri": "https://localhost:8080/"
    },
    "id": "RMLLCoehIA5Q",
    "outputId": "0de6712e-99e8-41e3-97e7-7af36310e0fe"
   },
   "outputs": [
    {
     "data": {
      "text/plain": [
       "12.91549665014884"
      ]
     },
     "execution_count": 31,
     "metadata": {},
     "output_type": "execute_result"
    }
   ],
   "source": [
    "ridgecv = RidgeCV(alphas=alpha_ridge)\n",
    "ridgecv.fit(X_train, y_train)\n",
    "ridgecv.alpha_"
   ]
  },
  {
   "cell_type": "code",
   "execution_count": 43,
   "metadata": {
    "id": "aAXrXKb5IA5R"
   },
   "outputs": [],
   "source": [
    "alpha_ridge_opt = ridgecv.alpha_"
   ]
  },
  {
   "cell_type": "markdown",
   "metadata": {
    "id": "vhHXXqfSIA5R"
   },
   "source": [
    "----"
   ]
  },
  {
   "cell_type": "markdown",
   "metadata": {
    "id": "6tyMcROoIA5R"
   },
   "source": [
    "#### 2) Optimal alpha for Lasso regression"
   ]
  },
  {
   "cell_type": "code",
   "execution_count": 33,
   "metadata": {
    "colab": {
     "base_uri": "https://localhost:8080/"
    },
    "id": "S8aIzwivIA5R",
    "outputId": "f2a4df90-abf5-4885-b4ba-ac0f147192ad"
   },
   "outputs": [
    {
     "data": {
      "text/plain": [
       "0.010732138475800224"
      ]
     },
     "execution_count": 33,
     "metadata": {},
     "output_type": "execute_result"
    }
   ],
   "source": [
    "lassocv = LassoCV()\n",
    "lassocv.fit(X_train, y_train)\n",
    "lassocv.alpha_"
   ]
  },
  {
   "cell_type": "code",
   "execution_count": 34,
   "metadata": {
    "id": "XSMjt1wMIA5R"
   },
   "outputs": [],
   "source": [
    "alpha_lasso_opt = lassocv.alpha_"
   ]
  },
  {
   "cell_type": "markdown",
   "metadata": {
    "id": "mPrsgouTIA5R"
   },
   "source": [
    "----"
   ]
  },
  {
   "cell_type": "markdown",
   "metadata": {
    "id": "C6bCT-LiIA5R"
   },
   "source": [
    "#### 3) Optimal alpha for Elastic Net regression"
   ]
  },
  {
   "cell_type": "code",
   "execution_count": 35,
   "metadata": {
    "colab": {
     "base_uri": "https://localhost:8080/"
    },
    "id": "8D2oXer9IA5S",
    "outputId": "034a2062-6c2d-4efe-f785-eac07de8d701"
   },
   "outputs": [
    {
     "data": {
      "text/plain": [
       "0.010682821217946607"
      ]
     },
     "execution_count": 35,
     "metadata": {},
     "output_type": "execute_result"
    }
   ],
   "source": [
    "elasticnetcv = ElasticNetCV()\n",
    "elasticnetcv.fit(X_train, y_train)\n",
    "elasticnetcv.alpha_"
   ]
  },
  {
   "cell_type": "code",
   "execution_count": 36,
   "metadata": {
    "colab": {
     "base_uri": "https://localhost:8080/"
    },
    "id": "17_zXvEBIA5S",
    "outputId": "715fc5c5-bdf6-4f8b-f5dc-3e7602a23dfc"
   },
   "outputs": [
    {
     "data": {
      "text/plain": [
       "0.5"
      ]
     },
     "execution_count": 36,
     "metadata": {},
     "output_type": "execute_result"
    }
   ],
   "source": [
    "elasticnetcv.l1_ratio_"
   ]
  },
  {
   "cell_type": "code",
   "execution_count": 37,
   "metadata": {
    "id": "ohGoDtJeIA5S"
   },
   "outputs": [],
   "source": [
    "alpha_elasticnet_opt = elasticnetcv.alpha_"
   ]
  },
  {
   "cell_type": "markdown",
   "metadata": {
    "id": "y_ztD8_pIA5S"
   },
   "source": [
    "----"
   ]
  },
  {
   "cell_type": "markdown",
   "metadata": {},
   "source": [
    "## Refit the models\n"
   ]
  },
  {
   "cell_type": "code",
   "execution_count": 44,
   "metadata": {},
   "outputs": [],
   "source": [
    "# Now go back to part 4, copy codes from cells in part 4.1, 4.2 and 4.3. # You need to refit the models using \n",
    "# the optimal hyper parameters (alphas) that you obtained from cross validation #in part 5. \n",
    "# However, name your final predictions data frame as df_predictions_optimal  "
   ]
  },
  {
   "cell_type": "code",
   "execution_count": 45,
   "metadata": {},
   "outputs": [],
   "source": [
    "model_linear = LinearRegression()\n",
    "model_ridge = Ridge(alpha_ridge_opt)\n",
    "model_lasso = Lasso(alpha_lasso_opt)\n",
    "model_net = ElasticNet(alpha_elasticnet_opt)"
   ]
  },
  {
   "cell_type": "code",
   "execution_count": 46,
   "metadata": {},
   "outputs": [],
   "source": [
    "y_hat_linear= model_linear.fit(X_train, y_train).predict(X_test)\n",
    "y_hat_ridge = model_ridge.fit(X_train, y_train).predict(X_test)\n",
    "y_hat_lasso = model_lasso.fit(X_train, y_train).predict(X_test)\n",
    "y_hat_net   = model_net.fit(X_train, y_train).predict(X_test)"
   ]
  },
  {
   "cell_type": "code",
   "execution_count": 47,
   "metadata": {},
   "outputs": [
    {
     "data": {
      "text/html": [
       "<div>\n",
       "<style scoped>\n",
       "    .dataframe tbody tr th:only-of-type {\n",
       "        vertical-align: middle;\n",
       "    }\n",
       "\n",
       "    .dataframe tbody tr th {\n",
       "        vertical-align: top;\n",
       "    }\n",
       "\n",
       "    .dataframe thead th {\n",
       "        text-align: right;\n",
       "    }\n",
       "</style>\n",
       "<table border=\"1\" class=\"dataframe\">\n",
       "  <thead>\n",
       "    <tr style=\"text-align: right;\">\n",
       "      <th></th>\n",
       "      <th>y_test</th>\n",
       "      <th>y_hat_linear</th>\n",
       "      <th>y_hat_ridge</th>\n",
       "      <th>y_hat_lasso</th>\n",
       "      <th>y_hat_net</th>\n",
       "    </tr>\n",
       "  </thead>\n",
       "  <tbody>\n",
       "    <tr>\n",
       "      <th>434</th>\n",
       "      <td>0.042199</td>\n",
       "      <td>-0.267170</td>\n",
       "      <td>-0.209582</td>\n",
       "      <td>-0.213254</td>\n",
       "      <td>-0.214806</td>\n",
       "    </tr>\n",
       "    <tr>\n",
       "      <th>238</th>\n",
       "      <td>1.910343</td>\n",
       "      <td>0.699718</td>\n",
       "      <td>0.765812</td>\n",
       "      <td>0.808387</td>\n",
       "      <td>0.809270</td>\n",
       "    </tr>\n",
       "    <tr>\n",
       "      <th>531</th>\n",
       "      <td>-0.700110</td>\n",
       "      <td>-0.065042</td>\n",
       "      <td>0.052529</td>\n",
       "      <td>0.023871</td>\n",
       "      <td>0.037489</td>\n",
       "    </tr>\n",
       "    <tr>\n",
       "      <th>157</th>\n",
       "      <td>2.328510</td>\n",
       "      <td>0.689508</td>\n",
       "      <td>0.710131</td>\n",
       "      <td>0.761422</td>\n",
       "      <td>0.757606</td>\n",
       "    </tr>\n",
       "    <tr>\n",
       "      <th>601</th>\n",
       "      <td>1.341239</td>\n",
       "      <td>0.208652</td>\n",
       "      <td>0.165143</td>\n",
       "      <td>0.155527</td>\n",
       "      <td>0.158446</td>\n",
       "    </tr>\n",
       "  </tbody>\n",
       "</table>\n",
       "</div>"
      ],
      "text/plain": [
       "       y_test  y_hat_linear  y_hat_ridge  y_hat_lasso  y_hat_net\n",
       "434  0.042199     -0.267170    -0.209582    -0.213254  -0.214806\n",
       "238  1.910343      0.699718     0.765812     0.808387   0.809270\n",
       "531 -0.700110     -0.065042     0.052529     0.023871   0.037489\n",
       "157  2.328510      0.689508     0.710131     0.761422   0.757606\n",
       "601  1.341239      0.208652     0.165143     0.155527   0.158446"
      ]
     },
     "execution_count": 47,
     "metadata": {},
     "output_type": "execute_result"
    }
   ],
   "source": [
    "df_predictions_optimal = pd.DataFrame({'y_test':y_test,\n",
    "                               'y_hat_linear':y_hat_linear,\n",
    "                               'y_hat_ridge':y_hat_ridge,\n",
    "                               'y_hat_lasso':y_hat_lasso,\n",
    "                               'y_hat_net':y_hat_net})\n",
    "df_predictions_optimal.head()"
   ]
  },
  {
   "cell_type": "markdown",
   "metadata": {
    "id": "DjingGLmIA5I"
   },
   "source": [
    "### Performance in the test set"
   ]
  },
  {
   "cell_type": "code",
   "execution_count": 57,
   "metadata": {},
   "outputs": [],
   "source": [
    "# Use the variables in df_predictions_optimal to report the RMSE_test (RMSE in the test set) for all the 4 models.\n",
    "# Rank the models based on their performance in the test set."
   ]
  },
  {
   "cell_type": "code",
   "execution_count": 50,
   "metadata": {
    "colab": {
     "base_uri": "https://localhost:8080/"
    },
    "id": "OnCRU5BRIA5I",
    "outputId": "d89c9e53-0ed6-433e-9572-40d97d852b60"
   },
   "outputs": [
    {
     "data": {
      "text/plain": [
       "0.865"
      ]
     },
     "execution_count": 50,
     "metadata": {},
     "output_type": "execute_result"
    }
   ],
   "source": [
    "MSE_test = np.mean(np.square(df_predictions_optimal['y_test'] - df_predictions_optimal['y_hat_linear']))\n",
    "RMSE_test = np.sqrt(MSE_test)\n",
    "np.round(RMSE_test,3)"
   ]
  },
  {
   "cell_type": "code",
   "execution_count": 54,
   "metadata": {
    "colab": {
     "base_uri": "https://localhost:8080/"
    },
    "id": "1KETa3mBIA5N",
    "outputId": "b41ef017-8620-466e-9397-0255ec02a00a"
   },
   "outputs": [
    {
     "data": {
      "text/plain": [
       "0.8671"
      ]
     },
     "execution_count": 54,
     "metadata": {},
     "output_type": "execute_result"
    }
   ],
   "source": [
    "MSE_test = np.mean(np.square(df_predictions_optimal['y_test'] - df_predictions_optimal['y_hat_ridge']))\n",
    "RMSE_test = np.sqrt(MSE_test)\n",
    "np.round(RMSE_test,5)"
   ]
  },
  {
   "cell_type": "code",
   "execution_count": 55,
   "metadata": {
    "colab": {
     "base_uri": "https://localhost:8080/"
    },
    "id": "TjUuOje9IA5N",
    "outputId": "aabd86fd-078e-49d0-b25e-d115708ad341"
   },
   "outputs": [
    {
     "data": {
      "text/plain": [
       "0.868"
      ]
     },
     "execution_count": 55,
     "metadata": {},
     "output_type": "execute_result"
    }
   ],
   "source": [
    "MSE_test = np.mean(np.square(df_predictions_optimal['y_test'] - df_predictions_optimal['y_hat_lasso']))\n",
    "RMSE_test = np.sqrt(MSE_test)\n",
    "np.round(RMSE_test,3)"
   ]
  },
  {
   "cell_type": "code",
   "execution_count": 56,
   "metadata": {
    "colab": {
     "base_uri": "https://localhost:8080/"
    },
    "id": "Q3ELbqPqIA5N",
    "outputId": "da2199f4-763d-4e3a-a2e2-0ac01fcec333"
   },
   "outputs": [
    {
     "data": {
      "text/plain": [
       "0.868"
      ]
     },
     "execution_count": 56,
     "metadata": {},
     "output_type": "execute_result"
    }
   ],
   "source": [
    "MSE_test = np.mean(np.square(df_predictions_optimal['y_test'] - df_predictions_optimal['y_hat_net']))\n",
    "RMSE_test = np.sqrt(MSE_test)\n",
    "np.round(RMSE_test,3)"
   ]
  },
  {
   "cell_type": "code",
   "execution_count": 58,
   "metadata": {},
   "outputs": [],
   "source": [
    "# Were you able to beat the simple linear model? What does this mean?"
   ]
  },
  {
   "cell_type": "markdown",
   "metadata": {
    "id": "LAp9KDjzIA5O"
   },
   "source": [
    "### Plotting the regression coefficients vs alphas:"
   ]
  },
  {
   "cell_type": "markdown",
   "metadata": {
    "id": "421a0hlvIA5O"
   },
   "source": [
    "#### 1) Ridge regression coefficients vs alpha"
   ]
  },
  {
   "cell_type": "code",
   "execution_count": 74,
   "metadata": {},
   "outputs": [],
   "source": [
    "# Plot the coefficients vs alphas for each of the penalized regression models. How do you interpret each of them?"
   ]
  },
  {
   "cell_type": "code",
   "execution_count": 22,
   "metadata": {
    "id": "kf9fRKVwIA5O"
   },
   "outputs": [],
   "source": [
    "alpha_ridge_opt = 10**np.linspace(0,5,100)"
   ]
  },
  {
   "cell_type": "code",
   "execution_count": 62,
   "metadata": {
    "colab": {
     "base_uri": "https://localhost:8080/"
    },
    "id": "XH9yFr0lIA5O",
    "outputId": "9a2f70ae-3772-486c-df5d-e5bfd537cdf0"
   },
   "outputs": [
    {
     "data": {
      "text/plain": [
       "(100, 10)"
      ]
     },
     "execution_count": 62,
     "metadata": {},
     "output_type": "execute_result"
    }
   ],
   "source": [
    "ridge = Ridge()\n",
    "coefs_ridge = []\n",
    "\n",
    "for i in alpha_ridge_opt:\n",
    "    ridge.set_params(alpha = i)\n",
    "    ridge.fit(X_train, y_train)\n",
    "    coefs_ridge.append(ridge.coef_)\n",
    "    \n",
    "np.shape(coefs_ridge)"
   ]
  },
  {
   "cell_type": "code",
   "execution_count": 66,
   "metadata": {
    "colab": {
     "base_uri": "https://localhost:8080/",
     "height": 634
    },
    "id": "D0soQVLAIA5O",
    "outputId": "44d9a9f2-68a7-4543-e398-1bd82e9d0e32"
   },
   "outputs": [
    {
     "data": {
      "image/png": "[encoded data removed]",
      "text/plain": [
       "<Figure size 864x720 with 1 Axes>"
      ]
     },
     "metadata": {},
     "output_type": "display_data"
    }
   ],
   "source": [
    "plt.figure(figsize=(12,10))\n",
    "ax = plt.gca()\n",
    "ax.plot(alpha_ridge, coefs_ridge)\n",
    "ax.set_xscale('log')\n",
    "plt.axis('tight')\n",
    "plt.xlabel('alpha')\n",
    "plt.ylabel('weights: scaled coefficients')\n",
    "plt.title('Ridge regression coefficients Vs. alpha')\n",
    "plt.legend(df.drop('wage',axis=1, inplace=False).columns)\n",
    "\n",
    "plt.show()"
   ]
  },
  {
   "cell_type": "markdown",
   "metadata": {
    "id": "exY8UJTNIA5O"
   },
   "source": [
    "---"
   ]
  },
  {
   "cell_type": "markdown",
   "metadata": {
    "id": "TsIhOQEiIA5P"
   },
   "source": [
    "#### 2) Lasso regression coefficients vs alpha"
   ]
  },
  {
   "cell_type": "code",
   "execution_count": 68,
   "metadata": {
    "id": "JxnwkoDnIA5P"
   },
   "outputs": [],
   "source": [
    "alpha_lasso_opt = 10**np.linspace(-3,1,100)"
   ]
  },
  {
   "cell_type": "code",
   "execution_count": 69,
   "metadata": {
    "colab": {
     "base_uri": "https://localhost:8080/"
    },
    "id": "oRKpwx-FIA5P",
    "outputId": "15007672-398f-4223-824d-61b3790f692b"
   },
   "outputs": [
    {
     "data": {
      "text/plain": [
       "(100, 10)"
      ]
     },
     "execution_count": 69,
     "metadata": {},
     "output_type": "execute_result"
    }
   ],
   "source": [
    "lasso = Lasso()\n",
    "coefs_lasso = []\n",
    "\n",
    "for i in alpha_lasso_opt:\n",
    "    lasso.set_params(alpha = i)\n",
    "    lasso.fit(X_train, y_train)\n",
    "    coefs_lasso.append(lasso.coef_)\n",
    "    \n",
    "np.shape(coefs_lasso)"
   ]
  },
  {
   "cell_type": "code",
   "execution_count": 70,
   "metadata": {
    "colab": {
     "base_uri": "https://localhost:8080/",
     "height": 634
    },
    "id": "pWZ28TiCIA5P",
    "outputId": "a77a154f-dff9-49c7-bf2d-18b891762793"
   },
   "outputs": [
    {
     "data": {
      "image/png": "[encoded data removed]",
      "text/plain": [
       "<Figure size 864x720 with 1 Axes>"
      ]
     },
     "metadata": {},
     "output_type": "display_data"
    }
   ],
   "source": [
    "plt.figure(figsize=(12,10))\n",
    "ax = plt.gca()\n",
    "ax.plot(alpha_lasso_opt, coefs_lasso)\n",
    "ax.set_xscale('log')\n",
    "plt.axis('tight')\n",
    "plt.xlabel('alpha')\n",
    "plt.ylabel('weights: scaled coefficients')\n",
    "plt.title('Lasso regression coefficients Vs. alpha')\n",
    "plt.legend(df.drop('wage',axis=1, inplace=False).columns)\n",
    "\n",
    "plt.show()"
   ]
  },
  {
   "cell_type": "markdown",
   "metadata": {
    "id": "GuZsEWNVIA5P"
   },
   "source": [
    "**Challenge**: Which coefficients survive when alpha = 0.1? "
   ]
  },
  {
   "cell_type": "markdown",
   "metadata": {
    "id": "QhVLnTf2IA5P"
   },
   "source": [
    "---"
   ]
  },
  {
   "cell_type": "markdown",
   "metadata": {
    "id": "JM7HT3OWIA5P"
   },
   "source": [
    "#### 3) Elastic Net regression coefficients vs alpha"
   ]
  },
  {
   "cell_type": "code",
   "execution_count": 71,
   "metadata": {
    "id": "KXPjREbDIA5Q"
   },
   "outputs": [],
   "source": [
    "alpha_elasticnet_opt = 10**np.linspace(-3,1,100)"
   ]
  },
  {
   "cell_type": "code",
   "execution_count": 72,
   "metadata": {
    "colab": {
     "base_uri": "https://localhost:8080/"
    },
    "id": "XAWqRNVCIA5Q",
    "outputId": "e712ca44-729d-4030-ed4e-d1bd2df6b800"
   },
   "outputs": [
    {
     "data": {
      "text/plain": [
       "(100, 10)"
      ]
     },
     "execution_count": 72,
     "metadata": {},
     "output_type": "execute_result"
    }
   ],
   "source": [
    "elasticnet = ElasticNet()\n",
    "coefs_elasticnet = []\n",
    "\n",
    "for i in alpha_elasticnet_opt:\n",
    "    elasticnet.set_params(alpha = i)\n",
    "    elasticnet.fit(X_train, y_train)\n",
    "    coefs_elasticnet.append(elasticnet.coef_)\n",
    "    \n",
    "np.shape(coefs_elasticnet)"
   ]
  },
  {
   "cell_type": "code",
   "execution_count": 73,
   "metadata": {
    "colab": {
     "base_uri": "https://localhost:8080/",
     "height": 634
    },
    "id": "8DPas0sWIA5Q",
    "outputId": "d094689e-d6fc-42a7-faa0-e6503365b998"
   },
   "outputs": [
    {
     "data": {
      "image/png": "[encoded data removed]",
      "text/plain": [
       "<Figure size 864x720 with 1 Axes>"
      ]
     },
     "metadata": {},
     "output_type": "display_data"
    }
   ],
   "source": [
    "plt.figure(figsize=(12,10))\n",
    "ax = plt.gca()\n",
    "ax.plot(alpha_elasticnet_opt, coefs_elasticnet)\n",
    "ax.set_xscale('log')\n",
    "plt.axis('tight')\n",
    "plt.xlabel('alpha')\n",
    "plt.ylabel('weights: scaled coefficients')\n",
    "plt.title('Elastic Net regression coefficients Vs. alpha')\n",
    "plt.legend(df.drop('wage',axis=1, inplace=False).columns)\n",
    "\n",
    "plt.show()"
   ]
  },
  {
   "cell_type": "code",
   "execution_count": null,
   "metadata": {},
   "outputs": [],
   "source": [
    "# From the 3 plots you generated in part 8, answer the following questions: (15 points)\n",
    "# Ridge regression plot: Which coefficients drop most significantly when alpha increases from 0.0001 to 10. (name the top two) (5 points)\n",
    "# Lasso regression plot: What are the top 2 variables that survive when alpha=0.1? (5 points)\n",
    "# From the Lasso plot and ElasticNet plot, why the magnitude of Lasso coefficients are larger than the ElasticNet coefficients for alpha=0.0001? (5 points)"
   ]
  }
 ],
 "metadata": {
  "colab": {
   "collapsed_sections": [],
   "provenance": []
  },
  "kernelspec": {
   "display_name": "Python 3 (ipykernel)",
   "language": "python",
   "name": "python3"
  },
  "language_info": {
   "codemirror_mode": {
    "name": "ipython",
    "version": 3
   },
   "file_extension": ".py",
   "mimetype": "text/x-python",
   "name": "python",
   "nbconvert_exporter": "python",
   "pygments_lexer": "ipython3",
   "version": "3.9.12"
  },
  "vscode": {
   "interpreter": {
    "hash": "0ffb88c31ec056e63266e1bde15465da48d35723a6611a2d934d97f266c24c9f"
   }
  }
 },
 "nbformat": 4,
 "nbformat_minor": 1
}
