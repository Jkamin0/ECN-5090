{
 "cells": [
  {
   "cell_type": "code",
   "execution_count": 2,
   "id": "6b85b588",
   "metadata": {},
   "outputs": [],
   "source": [
    "import numpy as np\n",
    "import pandas as pd\n",
    "import matplotlib.pyplot as plt\n",
    "import seaborn as sns\n",
    "sns.set()  #if you want to use seaborn themes with matplotlib functions\n",
    "import statsmodels.api as sm\n",
    "\n",
    "import warnings\n",
    "warnings.filterwarnings('ignore')"
   ]
  },
  {
   "cell_type": "markdown",
   "id": "abdd2a5b",
   "metadata": {},
   "source": [
    "## Question 1: RF Regression"
   ]
  },
  {
   "cell_type": "code",
   "execution_count": 15,
   "id": "fd3782c1",
   "metadata": {},
   "outputs": [
    {
     "data": {
      "text/html": [
       "<div>\n",
       "<style scoped>\n",
       "    .dataframe tbody tr th:only-of-type {\n",
       "        vertical-align: middle;\n",
       "    }\n",
       "\n",
       "    .dataframe tbody tr th {\n",
       "        vertical-align: top;\n",
       "    }\n",
       "\n",
       "    .dataframe thead th {\n",
       "        text-align: right;\n",
       "    }\n",
       "</style>\n",
       "<table border=\"1\" class=\"dataframe\">\n",
       "  <thead>\n",
       "    <tr style=\"text-align: right;\">\n",
       "      <th></th>\n",
       "      <th>yr</th>\n",
       "      <th>mnth</th>\n",
       "      <th>hr</th>\n",
       "      <th>holiday</th>\n",
       "      <th>weekday</th>\n",
       "      <th>notbizday</th>\n",
       "      <th>temp</th>\n",
       "      <th>hum</th>\n",
       "      <th>windspeed</th>\n",
       "      <th>cnt</th>\n",
       "      <th>season_1</th>\n",
       "      <th>season_2</th>\n",
       "      <th>season_3</th>\n",
       "      <th>season_4</th>\n",
       "      <th>weathersit_1</th>\n",
       "      <th>weathersit_2</th>\n",
       "      <th>weathersit_3</th>\n",
       "      <th>weathersit_4</th>\n",
       "    </tr>\n",
       "  </thead>\n",
       "  <tbody>\n",
       "    <tr>\n",
       "      <th>0</th>\n",
       "      <td>0</td>\n",
       "      <td>1</td>\n",
       "      <td>0</td>\n",
       "      <td>0</td>\n",
       "      <td>6</td>\n",
       "      <td>1</td>\n",
       "      <td>-1.334609</td>\n",
       "      <td>0.947345</td>\n",
       "      <td>-1.553844</td>\n",
       "      <td>16</td>\n",
       "      <td>1</td>\n",
       "      <td>0</td>\n",
       "      <td>0</td>\n",
       "      <td>0</td>\n",
       "      <td>1</td>\n",
       "      <td>0</td>\n",
       "      <td>0</td>\n",
       "      <td>0</td>\n",
       "    </tr>\n",
       "    <tr>\n",
       "      <th>1</th>\n",
       "      <td>0</td>\n",
       "      <td>1</td>\n",
       "      <td>1</td>\n",
       "      <td>0</td>\n",
       "      <td>6</td>\n",
       "      <td>1</td>\n",
       "      <td>-1.438475</td>\n",
       "      <td>0.895513</td>\n",
       "      <td>-1.553844</td>\n",
       "      <td>40</td>\n",
       "      <td>1</td>\n",
       "      <td>0</td>\n",
       "      <td>0</td>\n",
       "      <td>0</td>\n",
       "      <td>1</td>\n",
       "      <td>0</td>\n",
       "      <td>0</td>\n",
       "      <td>0</td>\n",
       "    </tr>\n",
       "    <tr>\n",
       "      <th>2</th>\n",
       "      <td>0</td>\n",
       "      <td>1</td>\n",
       "      <td>2</td>\n",
       "      <td>0</td>\n",
       "      <td>6</td>\n",
       "      <td>1</td>\n",
       "      <td>-1.438475</td>\n",
       "      <td>0.895513</td>\n",
       "      <td>-1.553844</td>\n",
       "      <td>32</td>\n",
       "      <td>1</td>\n",
       "      <td>0</td>\n",
       "      <td>0</td>\n",
       "      <td>0</td>\n",
       "      <td>1</td>\n",
       "      <td>0</td>\n",
       "      <td>0</td>\n",
       "      <td>0</td>\n",
       "    </tr>\n",
       "    <tr>\n",
       "      <th>3</th>\n",
       "      <td>0</td>\n",
       "      <td>1</td>\n",
       "      <td>3</td>\n",
       "      <td>0</td>\n",
       "      <td>6</td>\n",
       "      <td>1</td>\n",
       "      <td>-1.334609</td>\n",
       "      <td>0.636351</td>\n",
       "      <td>-1.553844</td>\n",
       "      <td>13</td>\n",
       "      <td>1</td>\n",
       "      <td>0</td>\n",
       "      <td>0</td>\n",
       "      <td>0</td>\n",
       "      <td>1</td>\n",
       "      <td>0</td>\n",
       "      <td>0</td>\n",
       "      <td>0</td>\n",
       "    </tr>\n",
       "    <tr>\n",
       "      <th>4</th>\n",
       "      <td>0</td>\n",
       "      <td>1</td>\n",
       "      <td>4</td>\n",
       "      <td>0</td>\n",
       "      <td>6</td>\n",
       "      <td>1</td>\n",
       "      <td>-1.334609</td>\n",
       "      <td>0.636351</td>\n",
       "      <td>-1.553844</td>\n",
       "      <td>1</td>\n",
       "      <td>1</td>\n",
       "      <td>0</td>\n",
       "      <td>0</td>\n",
       "      <td>0</td>\n",
       "      <td>1</td>\n",
       "      <td>0</td>\n",
       "      <td>0</td>\n",
       "      <td>0</td>\n",
       "    </tr>\n",
       "  </tbody>\n",
       "</table>\n",
       "</div>"
      ],
      "text/plain": [
       "   yr  mnth  hr  holiday  weekday  notbizday      temp       hum  windspeed  \\\n",
       "0   0     1   0        0        6          1 -1.334609  0.947345  -1.553844   \n",
       "1   0     1   1        0        6          1 -1.438475  0.895513  -1.553844   \n",
       "2   0     1   2        0        6          1 -1.438475  0.895513  -1.553844   \n",
       "3   0     1   3        0        6          1 -1.334609  0.636351  -1.553844   \n",
       "4   0     1   4        0        6          1 -1.334609  0.636351  -1.553844   \n",
       "\n",
       "   cnt  season_1  season_2  season_3  season_4  weathersit_1  weathersit_2  \\\n",
       "0   16         1         0         0         0             1             0   \n",
       "1   40         1         0         0         0             1             0   \n",
       "2   32         1         0         0         0             1             0   \n",
       "3   13         1         0         0         0             1             0   \n",
       "4    1         1         0         0         0             1             0   \n",
       "\n",
       "   weathersit_3  weathersit_4  \n",
       "0             0             0  \n",
       "1             0             0  \n",
       "2             0             0  \n",
       "3             0             0  \n",
       "4             0             0  "
      ]
     },
     "execution_count": 15,
     "metadata": {},
     "output_type": "execute_result"
    }
   ],
   "source": [
    "df = pd.read_csv('bikeshare.csv')\n",
    "\n",
    "df = pd.get_dummies(df, columns=['season', 'weathersit'])\n",
    "\n",
    "df.drop(columns={'dteday'}, inplace=True)\n",
    "\n",
    "df.head()"
   ]
  },
  {
   "cell_type": "markdown",
   "id": "fcd6c487",
   "metadata": {},
   "source": [
    "### Define your feature space and target variables. Split the data into test (30%) and train set (70%) \n"
   ]
  },
  {
   "cell_type": "code",
   "execution_count": 16,
   "id": "d4c61ffe",
   "metadata": {},
   "outputs": [],
   "source": [
    "rand_state = 1000"
   ]
  },
  {
   "cell_type": "code",
   "execution_count": 17,
   "id": "499c23bd",
   "metadata": {},
   "outputs": [],
   "source": [
    "y = df['cnt']\n",
    "X = df.drop('cnt', axis=1) # becareful inplace= False\n",
    "\n",
    "from sklearn.model_selection import train_test_split\n",
    "X_train, X_test, y_train, y_test = train_test_split(X, y, test_size=0.3, random_state=rand_state)"
   ]
  },
  {
   "cell_type": "markdown",
   "id": "d69dfe7a",
   "metadata": {},
   "source": [
    "### Train the model with the default features. However use random_state=1000\n"
   ]
  },
  {
   "cell_type": "code",
   "execution_count": 18,
   "id": "d60be633",
   "metadata": {},
   "outputs": [
    {
     "data": {
      "text/plain": [
       "RandomForestRegressor(random_state=1000)"
      ]
     },
     "execution_count": 18,
     "metadata": {},
     "output_type": "execute_result"
    }
   ],
   "source": [
    "from sklearn.ensemble import RandomForestRegressor\n",
    "\n",
    "RF_regression = RandomForestRegressor(random_state=rand_state)\n",
    "RF_regression.fit(X_train, y_train)"
   ]
  },
  {
   "cell_type": "markdown",
   "id": "d43ac8b0",
   "metadata": {},
   "source": [
    "### Make predictions on the test set and save them as y_hat"
   ]
  },
  {
   "cell_type": "code",
   "execution_count": 19,
   "id": "add99d3f",
   "metadata": {},
   "outputs": [],
   "source": [
    "y_hat = RF_regression.predict(X_test)"
   ]
  },
  {
   "cell_type": "markdown",
   "id": "61550254",
   "metadata": {},
   "source": [
    "### Construct a data frame named df_predictions with 2 columns. y_test, and y_hat  from previous part"
   ]
  },
  {
   "cell_type": "code",
   "execution_count": 20,
   "id": "a95ba7e2",
   "metadata": {},
   "outputs": [
    {
     "data": {
      "text/html": [
       "<div>\n",
       "<style scoped>\n",
       "    .dataframe tbody tr th:only-of-type {\n",
       "        vertical-align: middle;\n",
       "    }\n",
       "\n",
       "    .dataframe tbody tr th {\n",
       "        vertical-align: top;\n",
       "    }\n",
       "\n",
       "    .dataframe thead th {\n",
       "        text-align: right;\n",
       "    }\n",
       "</style>\n",
       "<table border=\"1\" class=\"dataframe\">\n",
       "  <thead>\n",
       "    <tr style=\"text-align: right;\">\n",
       "      <th></th>\n",
       "      <th>y_test</th>\n",
       "      <th>y_hat</th>\n",
       "    </tr>\n",
       "  </thead>\n",
       "  <tbody>\n",
       "    <tr>\n",
       "      <th>4495</th>\n",
       "      <td>26</td>\n",
       "      <td>21.19</td>\n",
       "    </tr>\n",
       "    <tr>\n",
       "      <th>4418</th>\n",
       "      <td>47</td>\n",
       "      <td>64.81</td>\n",
       "    </tr>\n",
       "    <tr>\n",
       "      <th>7141</th>\n",
       "      <td>11</td>\n",
       "      <td>5.02</td>\n",
       "    </tr>\n",
       "    <tr>\n",
       "      <th>14765</th>\n",
       "      <td>205</td>\n",
       "      <td>200.39</td>\n",
       "    </tr>\n",
       "    <tr>\n",
       "      <th>16541</th>\n",
       "      <td>65</td>\n",
       "      <td>80.38</td>\n",
       "    </tr>\n",
       "  </tbody>\n",
       "</table>\n",
       "</div>"
      ],
      "text/plain": [
       "       y_test   y_hat\n",
       "4495       26   21.19\n",
       "4418       47   64.81\n",
       "7141       11    5.02\n",
       "14765     205  200.39\n",
       "16541      65   80.38"
      ]
     },
     "execution_count": 20,
     "metadata": {},
     "output_type": "execute_result"
    }
   ],
   "source": [
    "predictions = pd.DataFrame({ 'y_test':y_test,'y_hat':y_hat})\n",
    "predictions.head()"
   ]
  },
  {
   "cell_type": "markdown",
   "id": "686f0491",
   "metadata": {},
   "source": [
    "### Visualize actual vs predicted counts in the test set using an scatterplot"
   ]
  },
  {
   "cell_type": "code",
   "execution_count": 21,
   "id": "46def324",
   "metadata": {},
   "outputs": [
    {
     "data": {
      "image/png": "[encoded data removed]",
      "text/plain": [
       "<Figure size 432x288 with 1 Axes>"
      ]
     },
     "metadata": {},
     "output_type": "display_data"
    }
   ],
   "source": [
    "sns.scatterplot(x=y_test, y=y_hat, alpha=0.6)\n",
    "sns.lineplot(y_test, y_test)\n",
    "\n",
    "plt.xlabel('Actual count', fontsize=14)\n",
    "plt.ylabel('Prediced  count', fontsize=14)\n",
    "plt.title('Actual vs Predicted  count (test set)', fontsize=17)\n",
    "plt.show()"
   ]
  },
  {
   "cell_type": "markdown",
   "id": "ab686f61",
   "metadata": {},
   "source": [
    "For this graph using all default settings, it turned out fairly well. It is not perfect and there are many outliers below the line. For a first run through though, could have been much worse."
   ]
  },
  {
   "cell_type": "markdown",
   "id": "96be0ca1",
   "metadata": {},
   "source": [
    "### Report the R-squared and RMSE_test for the RFF regression model"
   ]
  },
  {
   "cell_type": "code",
   "execution_count": 22,
   "id": "be82999e",
   "metadata": {},
   "outputs": [
    {
     "data": {
      "text/plain": [
       "0.9488"
      ]
     },
     "execution_count": 22,
     "metadata": {},
     "output_type": "execute_result"
    }
   ],
   "source": [
    "np.round(RF_regression.score(X_test, y_test),4)"
   ]
  },
  {
   "cell_type": "code",
   "execution_count": 23,
   "id": "4d2f04f2",
   "metadata": {},
   "outputs": [
    {
     "data": {
      "text/plain": [
       "41.81"
      ]
     },
     "execution_count": 23,
     "metadata": {},
     "output_type": "execute_result"
    }
   ],
   "source": [
    "MSE_test = round(np.mean(np.square(y_test - y_hat)),2)\n",
    "RMSE_test = round(np.sqrt(MSE_test),2)\n",
    "RMSE_test"
   ]
  },
  {
   "cell_type": "markdown",
   "id": "ced0091b",
   "metadata": {},
   "source": [
    "### Tuning hyperparameters"
   ]
  },
  {
   "cell_type": "code",
   "execution_count": 25,
   "id": "0fb39d9c",
   "metadata": {},
   "outputs": [],
   "source": [
    "my_param_grid = {'n_estimators':[100,200], 'max_features':['log2', 'auto'], 'max_depth':[10,None]} "
   ]
  },
  {
   "cell_type": "code",
   "execution_count": 27,
   "id": "db9e1158",
   "metadata": {},
   "outputs": [],
   "source": [
    "from sklearn.model_selection import GridSearchCV"
   ]
  },
  {
   "cell_type": "code",
   "execution_count": 29,
   "id": "7499c117",
   "metadata": {},
   "outputs": [],
   "source": [
    "grid = GridSearchCV(estimator=RandomForestRegressor(random_state=rand_state),param_grid= my_param_grid, refit = True, verbose=2, cv=5 )"
   ]
  },
  {
   "cell_type": "code",
   "execution_count": 30,
   "id": "70602aa5",
   "metadata": {},
   "outputs": [
    {
     "name": "stdout",
     "output_type": "stream",
     "text": [
      "Fitting 5 folds for each of 8 candidates, totalling 40 fits\n",
      "[CV] END ..max_depth=10, max_features=log2, n_estimators=100; total time=   0.4s\n",
      "[CV] END ..max_depth=10, max_features=log2, n_estimators=100; total time=   0.4s\n",
      "[CV] END ..max_depth=10, max_features=log2, n_estimators=100; total time=   0.4s\n",
      "[CV] END ..max_depth=10, max_features=log2, n_estimators=100; total time=   0.4s\n",
      "[CV] END ..max_depth=10, max_features=log2, n_estimators=100; total time=   0.4s\n",
      "[CV] END ..max_depth=10, max_features=log2, n_estimators=200; total time=   0.8s\n",
      "[CV] END ..max_depth=10, max_features=log2, n_estimators=200; total time=   0.8s\n",
      "[CV] END ..max_depth=10, max_features=log2, n_estimators=200; total time=   0.8s\n",
      "[CV] END ..max_depth=10, max_features=log2, n_estimators=200; total time=   0.8s\n",
      "[CV] END ..max_depth=10, max_features=log2, n_estimators=200; total time=   0.8s\n",
      "[CV] END ..max_depth=10, max_features=auto, n_estimators=100; total time=   1.3s\n",
      "[CV] END ..max_depth=10, max_features=auto, n_estimators=100; total time=   1.3s\n",
      "[CV] END ..max_depth=10, max_features=auto, n_estimators=100; total time=   1.3s\n",
      "[CV] END ..max_depth=10, max_features=auto, n_estimators=100; total time=   1.3s\n",
      "[CV] END ..max_depth=10, max_features=auto, n_estimators=100; total time=   1.3s\n",
      "[CV] END ..max_depth=10, max_features=auto, n_estimators=200; total time=   2.7s\n",
      "[CV] END ..max_depth=10, max_features=auto, n_estimators=200; total time=   2.6s\n",
      "[CV] END ..max_depth=10, max_features=auto, n_estimators=200; total time=   2.7s\n",
      "[CV] END ..max_depth=10, max_features=auto, n_estimators=200; total time=   2.7s\n",
      "[CV] END ..max_depth=10, max_features=auto, n_estimators=200; total time=   2.7s\n",
      "[CV] END max_depth=None, max_features=log2, n_estimators=100; total time=   0.8s\n",
      "[CV] END max_depth=None, max_features=log2, n_estimators=100; total time=   0.8s\n",
      "[CV] END max_depth=None, max_features=log2, n_estimators=100; total time=   0.8s\n",
      "[CV] END max_depth=None, max_features=log2, n_estimators=100; total time=   0.8s\n",
      "[CV] END max_depth=None, max_features=log2, n_estimators=100; total time=   0.8s\n",
      "[CV] END max_depth=None, max_features=log2, n_estimators=200; total time=   1.7s\n",
      "[CV] END max_depth=None, max_features=log2, n_estimators=200; total time=   1.7s\n",
      "[CV] END max_depth=None, max_features=log2, n_estimators=200; total time=   1.7s\n",
      "[CV] END max_depth=None, max_features=log2, n_estimators=200; total time=   1.7s\n",
      "[CV] END max_depth=None, max_features=log2, n_estimators=200; total time=   1.7s\n",
      "[CV] END max_depth=None, max_features=auto, n_estimators=100; total time=   2.3s\n",
      "[CV] END max_depth=None, max_features=auto, n_estimators=100; total time=   2.2s\n",
      "[CV] END max_depth=None, max_features=auto, n_estimators=100; total time=   2.2s\n",
      "[CV] END max_depth=None, max_features=auto, n_estimators=100; total time=   2.2s\n",
      "[CV] END max_depth=None, max_features=auto, n_estimators=100; total time=   2.2s\n",
      "[CV] END max_depth=None, max_features=auto, n_estimators=200; total time=   4.6s\n",
      "[CV] END max_depth=None, max_features=auto, n_estimators=200; total time=   4.6s\n",
      "[CV] END max_depth=None, max_features=auto, n_estimators=200; total time=   4.6s\n",
      "[CV] END max_depth=None, max_features=auto, n_estimators=200; total time=   4.6s\n",
      "[CV] END max_depth=None, max_features=auto, n_estimators=200; total time=   4.6s\n"
     ]
    },
    {
     "data": {
      "text/plain": [
       "GridSearchCV(cv=5, estimator=RandomForestRegressor(random_state=1000),\n",
       "             param_grid={'max_depth': [10, None],\n",
       "                         'max_features': ['log2', 'auto'],\n",
       "                         'n_estimators': [100, 200]},\n",
       "             verbose=2)"
      ]
     },
     "execution_count": 30,
     "metadata": {},
     "output_type": "execute_result"
    }
   ],
   "source": [
    "grid.fit(X_train,y_train)"
   ]
  },
  {
   "cell_type": "code",
   "execution_count": 31,
   "id": "0d76e35b",
   "metadata": {},
   "outputs": [
    {
     "data": {
      "text/plain": [
       "{'max_depth': None, 'max_features': 'auto', 'n_estimators': 200}"
      ]
     },
     "execution_count": 31,
     "metadata": {},
     "output_type": "execute_result"
    }
   ],
   "source": [
    "grid.best_params_"
   ]
  },
  {
   "cell_type": "code",
   "execution_count": 32,
   "id": "889d5cbb",
   "metadata": {},
   "outputs": [
    {
     "data": {
      "text/plain": [
       "RandomForestRegressor(n_estimators=200, random_state=1000)"
      ]
     },
     "execution_count": 32,
     "metadata": {},
     "output_type": "execute_result"
    }
   ],
   "source": [
    "grid.best_estimator_"
   ]
  },
  {
   "cell_type": "code",
   "execution_count": 33,
   "id": "d3e562a7",
   "metadata": {},
   "outputs": [],
   "source": [
    "y_hat_optimized = grid.predict(X_test)"
   ]
  },
  {
   "cell_type": "code",
   "execution_count": 34,
   "id": "d75e3787",
   "metadata": {},
   "outputs": [
    {
     "data": {
      "text/html": [
       "<div>\n",
       "<style scoped>\n",
       "    .dataframe tbody tr th:only-of-type {\n",
       "        vertical-align: middle;\n",
       "    }\n",
       "\n",
       "    .dataframe tbody tr th {\n",
       "        vertical-align: top;\n",
       "    }\n",
       "\n",
       "    .dataframe thead th {\n",
       "        text-align: right;\n",
       "    }\n",
       "</style>\n",
       "<table border=\"1\" class=\"dataframe\">\n",
       "  <thead>\n",
       "    <tr style=\"text-align: right;\">\n",
       "      <th></th>\n",
       "      <th>y_test</th>\n",
       "      <th>y_hat</th>\n",
       "      <th>y_hat_optimized</th>\n",
       "    </tr>\n",
       "  </thead>\n",
       "  <tbody>\n",
       "    <tr>\n",
       "      <th>4495</th>\n",
       "      <td>26</td>\n",
       "      <td>21.19</td>\n",
       "      <td>21.030</td>\n",
       "    </tr>\n",
       "    <tr>\n",
       "      <th>4418</th>\n",
       "      <td>47</td>\n",
       "      <td>64.81</td>\n",
       "      <td>64.955</td>\n",
       "    </tr>\n",
       "    <tr>\n",
       "      <th>7141</th>\n",
       "      <td>11</td>\n",
       "      <td>5.02</td>\n",
       "      <td>4.925</td>\n",
       "    </tr>\n",
       "    <tr>\n",
       "      <th>14765</th>\n",
       "      <td>205</td>\n",
       "      <td>200.39</td>\n",
       "      <td>200.760</td>\n",
       "    </tr>\n",
       "    <tr>\n",
       "      <th>16541</th>\n",
       "      <td>65</td>\n",
       "      <td>80.38</td>\n",
       "      <td>74.750</td>\n",
       "    </tr>\n",
       "  </tbody>\n",
       "</table>\n",
       "</div>"
      ],
      "text/plain": [
       "       y_test   y_hat  y_hat_optimized\n",
       "4495       26   21.19           21.030\n",
       "4418       47   64.81           64.955\n",
       "7141       11    5.02            4.925\n",
       "14765     205  200.39          200.760\n",
       "16541      65   80.38           74.750"
      ]
     },
     "execution_count": 34,
     "metadata": {},
     "output_type": "execute_result"
    }
   ],
   "source": [
    "predictions['y_hat_optimized'] = y_hat_optimized\n",
    "predictions.head()"
   ]
  },
  {
   "cell_type": "code",
   "execution_count": 35,
   "id": "2b59420f",
   "metadata": {},
   "outputs": [
    {
     "data": {
      "image/png": "[encoded data removed]",
      "text/plain": [
       "<Figure size 432x288 with 1 Axes>"
      ]
     },
     "metadata": {},
     "output_type": "display_data"
    }
   ],
   "source": [
    "sns.scatterplot(x=y_test, y=y_hat_optimized, alpha=0.6)\n",
    "sns.lineplot(y_test, y_test)\n",
    "\n",
    "plt.xlabel('Actual count', fontsize=14)\n",
    "plt.ylabel('Prediced  count', fontsize=14)\n",
    "plt.title('Actual vs optimized predicted count (test set)', fontsize=17)\n",
    "plt.show()"
   ]
  },
  {
   "cell_type": "code",
   "execution_count": 36,
   "id": "20a70262",
   "metadata": {},
   "outputs": [
    {
     "data": {
      "text/plain": [
       "0.9488"
      ]
     },
     "execution_count": 36,
     "metadata": {},
     "output_type": "execute_result"
    }
   ],
   "source": [
    "np.round(grid.score(X_test, y_test),4)"
   ]
  },
  {
   "cell_type": "code",
   "execution_count": 37,
   "id": "4fd42244",
   "metadata": {},
   "outputs": [
    {
     "data": {
      "text/plain": [
       "41.81"
      ]
     },
     "execution_count": 37,
     "metadata": {},
     "output_type": "execute_result"
    }
   ],
   "source": [
    "MSE_test_opt = round(np.mean(np.square(y_test - y_hat_optimized)),2)\n",
    "RMSE_test_opt = round(np.sqrt(MSE_test_opt),2)\n",
    "RMSE_test_opt"
   ]
  },
  {
   "cell_type": "markdown",
   "id": "559a2c65",
   "metadata": {},
   "source": [
    "The results from the grid optimization were exactly the same as the results from our first run through"
   ]
  },
  {
   "cell_type": "markdown",
   "id": "45c5688e",
   "metadata": {},
   "source": [
    "### Cross validation"
   ]
  },
  {
   "cell_type": "code",
   "execution_count": 39,
   "id": "ab2cafbe",
   "metadata": {},
   "outputs": [],
   "source": [
    "from sklearn.model_selection import cross_val_score"
   ]
  },
  {
   "cell_type": "code",
   "execution_count": 40,
   "id": "b48a05e8",
   "metadata": {},
   "outputs": [],
   "source": [
    "R2 = cross_val_score(estimator = RandomForestRegressor(max_depth=20, max_features='sqrt', n_estimators=500), X = X_train, y = y_train, cv = 5 , scoring=\"r2\" )"
   ]
  },
  {
   "cell_type": "code",
   "execution_count": 42,
   "id": "1eed47d2",
   "metadata": {},
   "outputs": [
    {
     "data": {
      "text/plain": [
       "0.8756"
      ]
     },
     "execution_count": 42,
     "metadata": {},
     "output_type": "execute_result"
    }
   ],
   "source": [
    "R2_CV = round(np.mean(R2),4)\n",
    "R2_CV"
   ]
  },
  {
   "cell_type": "markdown",
   "id": "3f2f2f1f",
   "metadata": {},
   "source": [
    "### OOB observations"
   ]
  },
  {
   "cell_type": "code",
   "execution_count": 44,
   "id": "a588e9d3",
   "metadata": {},
   "outputs": [
    {
     "data": {
      "text/plain": [
       "array([88, 22, 55, 43, 18, 62, 84, 42, 17, 25, 87, 12, 53, 15, 41, 97, 30,\n",
       "       45, 99, 34,  9, 21, 72, 71, 54, 99, 44, 51, 59, 66, 89, 82, 68, 57,\n",
       "        7,  1, 51, 81, 48, 57, 94, 13,  4, 46, 61, 89, 34, 69, 25, 95, 36,\n",
       "       73,  7, 42,  3, 23,  6,  2, 26, 19, 46, 25, 79, 94, 22, 36, 29, 98,\n",
       "       23, 11, 86, 94, 90, 48, 13, 68, 15, 41, 59, 42,  9, 56, 26, 99,  5,\n",
       "       67, 84, 40, 97, 69, 14, 54, 13, 22, 62, 87, 39, 59, 33,  5])"
      ]
     },
     "execution_count": 44,
     "metadata": {},
     "output_type": "execute_result"
    }
   ],
   "source": [
    "np.random.choice(100,size=100)"
   ]
  },
  {
   "cell_type": "code",
   "execution_count": 46,
   "id": "78b0bd79",
   "metadata": {},
   "outputs": [
    {
     "data": {
      "text/plain": [
       "64"
      ]
     },
     "execution_count": 46,
     "metadata": {},
     "output_type": "execute_result"
    }
   ],
   "source": [
    "np.unique(np.random.choice (100,size=100)).size"
   ]
  },
  {
   "cell_type": "code",
   "execution_count": 47,
   "id": "2964b59d",
   "metadata": {},
   "outputs": [
    {
     "data": {
      "text/plain": [
       "RandomForestRegressor(max_depth=20, max_features='sqrt', n_estimators=500,\n",
       "                      oob_score=True)"
      ]
     },
     "execution_count": 47,
     "metadata": {},
     "output_type": "execute_result"
    }
   ],
   "source": [
    "RF_oob = RandomForestRegressor(max_depth=20, max_features='sqrt', n_estimators=500, oob_score=True)\n",
    "RF_oob.fit(X_train, y_train)"
   ]
  },
  {
   "cell_type": "code",
   "execution_count": 49,
   "id": "e351b394",
   "metadata": {},
   "outputs": [
    {
     "data": {
      "text/plain": [
       "0.8872689809470964"
      ]
     },
     "execution_count": 49,
     "metadata": {},
     "output_type": "execute_result"
    }
   ],
   "source": [
    "RF_oob.oob_score_"
   ]
  },
  {
   "cell_type": "markdown",
   "id": "8e9eac2a",
   "metadata": {},
   "source": [
    "### Feature importance"
   ]
  },
  {
   "cell_type": "code",
   "execution_count": 51,
   "id": "63cdb71e",
   "metadata": {},
   "outputs": [
    {
     "data": {
      "text/plain": [
       "['yr',\n",
       " 'mnth',\n",
       " 'hr',\n",
       " 'holiday',\n",
       " 'weekday',\n",
       " 'notbizday',\n",
       " 'temp',\n",
       " 'hum',\n",
       " 'windspeed',\n",
       " 'season_1',\n",
       " 'season_2',\n",
       " 'season_3',\n",
       " 'season_4',\n",
       " 'weathersit_1',\n",
       " 'weathersit_2',\n",
       " 'weathersit_3',\n",
       " 'weathersit_4']"
      ]
     },
     "execution_count": 51,
     "metadata": {},
     "output_type": "execute_result"
    }
   ],
   "source": [
    "features = list(X_train.columns)\n",
    "features"
   ]
  },
  {
   "cell_type": "code",
   "execution_count": 52,
   "id": "9aebdfa9",
   "metadata": {},
   "outputs": [
    {
     "data": {
      "text/plain": [
       "RandomForestRegressor(max_depth=20, max_features='sqrt', n_estimators=500,\n",
       "                      random_state=1000)"
      ]
     },
     "execution_count": 52,
     "metadata": {},
     "output_type": "execute_result"
    }
   ],
   "source": [
    "RF_Regressor = RandomForestRegressor(n_estimators = 500, max_features='sqrt', max_depth=20, random_state= rand_state)\n",
    "RF_Regressor.fit(X_train, y_train)"
   ]
  },
  {
   "cell_type": "code",
   "execution_count": 53,
   "id": "fbb4ce8d",
   "metadata": {},
   "outputs": [
    {
     "data": {
      "text/plain": [
       "array([6.89381927e-02, 4.34190261e-02, 4.65611734e-01, 2.93386575e-03,\n",
       "       3.86644318e-02, 2.85248562e-02, 1.33941316e-01, 1.02780800e-01,\n",
       "       4.42029471e-02, 2.87688813e-02, 4.59334249e-03, 6.87144587e-03,\n",
       "       6.82696364e-03, 8.01286658e-03, 5.83636763e-03, 1.00679664e-02,\n",
       "       4.99661777e-06])"
      ]
     },
     "execution_count": 53,
     "metadata": {},
     "output_type": "execute_result"
    }
   ],
   "source": [
    "importance = RF_Regressor.feature_importances_\n",
    "importance"
   ]
  },
  {
   "cell_type": "code",
   "execution_count": 54,
   "id": "e1a0dfac",
   "metadata": {},
   "outputs": [
    {
     "data": {
      "text/html": [
       "<div>\n",
       "<style scoped>\n",
       "    .dataframe tbody tr th:only-of-type {\n",
       "        vertical-align: middle;\n",
       "    }\n",
       "\n",
       "    .dataframe tbody tr th {\n",
       "        vertical-align: top;\n",
       "    }\n",
       "\n",
       "    .dataframe thead th {\n",
       "        text-align: right;\n",
       "    }\n",
       "</style>\n",
       "<table border=\"1\" class=\"dataframe\">\n",
       "  <thead>\n",
       "    <tr style=\"text-align: right;\">\n",
       "      <th></th>\n",
       "      <th>Features</th>\n",
       "      <th>Feature_importance</th>\n",
       "    </tr>\n",
       "  </thead>\n",
       "  <tbody>\n",
       "    <tr>\n",
       "      <th>16</th>\n",
       "      <td>weathersit_4</td>\n",
       "      <td>0.000005</td>\n",
       "    </tr>\n",
       "    <tr>\n",
       "      <th>3</th>\n",
       "      <td>holiday</td>\n",
       "      <td>0.002934</td>\n",
       "    </tr>\n",
       "    <tr>\n",
       "      <th>10</th>\n",
       "      <td>season_2</td>\n",
       "      <td>0.004593</td>\n",
       "    </tr>\n",
       "    <tr>\n",
       "      <th>14</th>\n",
       "      <td>weathersit_2</td>\n",
       "      <td>0.005836</td>\n",
       "    </tr>\n",
       "    <tr>\n",
       "      <th>12</th>\n",
       "      <td>season_4</td>\n",
       "      <td>0.006827</td>\n",
       "    </tr>\n",
       "    <tr>\n",
       "      <th>11</th>\n",
       "      <td>season_3</td>\n",
       "      <td>0.006871</td>\n",
       "    </tr>\n",
       "    <tr>\n",
       "      <th>13</th>\n",
       "      <td>weathersit_1</td>\n",
       "      <td>0.008013</td>\n",
       "    </tr>\n",
       "    <tr>\n",
       "      <th>15</th>\n",
       "      <td>weathersit_3</td>\n",
       "      <td>0.010068</td>\n",
       "    </tr>\n",
       "    <tr>\n",
       "      <th>5</th>\n",
       "      <td>notbizday</td>\n",
       "      <td>0.028525</td>\n",
       "    </tr>\n",
       "    <tr>\n",
       "      <th>9</th>\n",
       "      <td>season_1</td>\n",
       "      <td>0.028769</td>\n",
       "    </tr>\n",
       "    <tr>\n",
       "      <th>4</th>\n",
       "      <td>weekday</td>\n",
       "      <td>0.038664</td>\n",
       "    </tr>\n",
       "    <tr>\n",
       "      <th>1</th>\n",
       "      <td>mnth</td>\n",
       "      <td>0.043419</td>\n",
       "    </tr>\n",
       "    <tr>\n",
       "      <th>8</th>\n",
       "      <td>windspeed</td>\n",
       "      <td>0.044203</td>\n",
       "    </tr>\n",
       "    <tr>\n",
       "      <th>0</th>\n",
       "      <td>yr</td>\n",
       "      <td>0.068938</td>\n",
       "    </tr>\n",
       "    <tr>\n",
       "      <th>7</th>\n",
       "      <td>hum</td>\n",
       "      <td>0.102781</td>\n",
       "    </tr>\n",
       "    <tr>\n",
       "      <th>6</th>\n",
       "      <td>temp</td>\n",
       "      <td>0.133941</td>\n",
       "    </tr>\n",
       "    <tr>\n",
       "      <th>2</th>\n",
       "      <td>hr</td>\n",
       "      <td>0.465612</td>\n",
       "    </tr>\n",
       "  </tbody>\n",
       "</table>\n",
       "</div>"
      ],
      "text/plain": [
       "        Features  Feature_importance\n",
       "16  weathersit_4            0.000005\n",
       "3        holiday            0.002934\n",
       "10      season_2            0.004593\n",
       "14  weathersit_2            0.005836\n",
       "12      season_4            0.006827\n",
       "11      season_3            0.006871\n",
       "13  weathersit_1            0.008013\n",
       "15  weathersit_3            0.010068\n",
       "5      notbizday            0.028525\n",
       "9       season_1            0.028769\n",
       "4        weekday            0.038664\n",
       "1           mnth            0.043419\n",
       "8      windspeed            0.044203\n",
       "0             yr            0.068938\n",
       "7            hum            0.102781\n",
       "6           temp            0.133941\n",
       "2             hr            0.465612"
      ]
     },
     "execution_count": 54,
     "metadata": {},
     "output_type": "execute_result"
    }
   ],
   "source": [
    "FIM = pd.DataFrame({'Features': features, 'Feature_importance':importance})\n",
    "FIM = FIM.sort_values(by=['Feature_importance'])\n",
    "FIM"
   ]
  },
  {
   "cell_type": "code",
   "execution_count": 55,
   "id": "97197b62",
   "metadata": {},
   "outputs": [
    {
     "data": {
      "image/png": "[encoded data removed]",
      "text/plain": [
       "<Figure size 720x432 with 1 Axes>"
      ]
     },
     "metadata": {},
     "output_type": "display_data"
    }
   ],
   "source": [
    "plt.figure(figsize=(10,6))\n",
    "plt.title('Feature Importance')\n",
    "sns.barplot(y='Features', x='Feature_importance', data=FIM)\n",
    "plt.show()"
   ]
  },
  {
   "cell_type": "markdown",
   "id": "42387051",
   "metadata": {},
   "source": [
    "## Question 2: RF Classification"
   ]
  },
  {
   "cell_type": "markdown",
   "id": "2c5bcd6f",
   "metadata": {},
   "source": [
    "### Define a binary target variable overload. Overload=1 if cnt>500 and 0 otherwise"
   ]
  },
  {
   "cell_type": "code",
   "execution_count": 91,
   "id": "908b0c51",
   "metadata": {},
   "outputs": [
    {
     "data": {
      "text/plain": [
       "0    16100\n",
       "1     1279\n",
       "Name: Overload, dtype: int64"
      ]
     },
     "execution_count": 91,
     "metadata": {},
     "output_type": "execute_result"
    }
   ],
   "source": [
    "conditions = [\n",
    "    df['cnt'] > 500,\n",
    "    True\n",
    "]\n",
    "\n",
    "values = [1,0]\n",
    "\n",
    "df['Overload'] = np.select(conditions, values)\n",
    "\n",
    "df.Overload.value_counts()"
   ]
  },
  {
   "cell_type": "markdown",
   "id": "93378544",
   "metadata": {},
   "source": [
    "### Along with the target variable, define your feature space (X) and split the data into test and train set "
   ]
  },
  {
   "cell_type": "code",
   "execution_count": 92,
   "id": "9ce53a20",
   "metadata": {},
   "outputs": [],
   "source": [
    "y = df['Overload']\n",
    "X = df.drop('Overload', axis=1) # becareful inplace= False\n",
    "\n",
    "X_train, X_test, y_train, y_test = train_test_split(X, y, test_size=0.3, random_state=rand_state)"
   ]
  },
  {
   "cell_type": "markdown",
   "id": "ea0ef31f",
   "metadata": {},
   "source": [
    "### Train the model with the default features. However use random_state=1000\n"
   ]
  },
  {
   "cell_type": "code",
   "execution_count": 93,
   "id": "4e8f9e75",
   "metadata": {},
   "outputs": [
    {
     "data": {
      "text/plain": [
       "RandomForestClassifier()"
      ]
     },
     "execution_count": 93,
     "metadata": {},
     "output_type": "execute_result"
    }
   ],
   "source": [
    "from sklearn.ensemble import RandomForestClassifier\n",
    "\n",
    "RF_classifier = RandomForestClassifier()\n",
    "RF_classifier.fit(X_train, y_train)"
   ]
  },
  {
   "cell_type": "markdown",
   "id": "cd97f280",
   "metadata": {},
   "source": [
    "### Generate the predicted probabilities and predicted classifications and save them as y_hat_probs, y_hat respectively"
   ]
  },
  {
   "cell_type": "code",
   "execution_count": 94,
   "id": "181a5e5b",
   "metadata": {},
   "outputs": [],
   "source": [
    "y_hat      = RF_classifier.predict(X_test)\n",
    "y_hat_probs = RF_classifier.predict_proba(X_test)[:,1] "
   ]
  },
  {
   "cell_type": "markdown",
   "id": "817c0465",
   "metadata": {},
   "source": [
    "### Plot the histogram of y_hat_probs"
   ]
  },
  {
   "cell_type": "code",
   "execution_count": 95,
   "id": "6841cc61",
   "metadata": {},
   "outputs": [
    {
     "data": {
      "image/png": "[encoded data removed]",
      "text/plain": [
       "<Figure size 432x288 with 1 Axes>"
      ]
     },
     "metadata": {},
     "output_type": "display_data"
    }
   ],
   "source": [
    "plt.hist(y_hat_probs)\n",
    "plt.show()"
   ]
  },
  {
   "cell_type": "markdown",
   "id": "836fc820",
   "metadata": {},
   "source": [
    "The majority of the predictions made here are that overload is 0. This is a fair prediction as the majority of our data does indeed have overload equal to 0."
   ]
  },
  {
   "cell_type": "markdown",
   "id": "0d1708e4",
   "metadata": {},
   "source": [
    "### Use the built-in classification report function from sklearn\n"
   ]
  },
  {
   "cell_type": "code",
   "execution_count": 97,
   "id": "2bafe1e3",
   "metadata": {},
   "outputs": [
    {
     "name": "stdout",
     "output_type": "stream",
     "text": [
      "              precision    recall  f1-score   support\n",
      "\n",
      "           0       1.00      1.00      1.00      4819\n",
      "           1       1.00      1.00      1.00       395\n",
      "\n",
      "    accuracy                           1.00      5214\n",
      "   macro avg       1.00      1.00      1.00      5214\n",
      "weighted avg       1.00      1.00      1.00      5214\n",
      "\n"
     ]
    }
   ],
   "source": [
    "from sklearn.metrics import confusion_matrix, classification_report, roc_curve, roc_auc_score\n",
    "print(classification_report(y_test, y_hat))"
   ]
  },
  {
   "cell_type": "code",
   "execution_count": 98,
   "id": "31c450bd",
   "metadata": {},
   "outputs": [
    {
     "name": "stdout",
     "output_type": "stream",
     "text": [
      "[[4819    0]\n",
      " [   0  395]]\n"
     ]
    }
   ],
   "source": [
    "print(confusion_matrix(y_test, y_hat))"
   ]
  },
  {
   "cell_type": "markdown",
   "id": "c7089ee2",
   "metadata": {},
   "source": [
    "According to these statistics, our model is perfect. There were no false negatives and no false positives in any of our predictions. This seems unlikely to be true but our model appears to be performing perfectly. "
   ]
  },
  {
   "cell_type": "markdown",
   "id": "0b46fb1c",
   "metadata": {},
   "source": [
    "### Tuning hyperparameters"
   ]
  },
  {
   "cell_type": "code",
   "execution_count": 99,
   "id": "0c00f17a",
   "metadata": {},
   "outputs": [],
   "source": [
    "my_param_grid = {'n_estimators':[100,200], 'criterion':['gini','entropy'],  'max_features':['log2', 'auto'], 'max_depth':[10,None]}"
   ]
  },
  {
   "cell_type": "code",
   "execution_count": 100,
   "id": "13c57cf3",
   "metadata": {},
   "outputs": [],
   "source": [
    "from sklearn.model_selection import GridSearchCV"
   ]
  },
  {
   "cell_type": "code",
   "execution_count": 101,
   "id": "21ca3970",
   "metadata": {},
   "outputs": [],
   "source": [
    "grid = GridSearchCV(estimator=RandomForestClassifier(random_state=rand_state),param_grid= my_param_grid, refit = True, verbose=2, cv=5 )"
   ]
  },
  {
   "cell_type": "code",
   "execution_count": 102,
   "id": "c6707bed",
   "metadata": {},
   "outputs": [
    {
     "name": "stdout",
     "output_type": "stream",
     "text": [
      "Fitting 5 folds for each of 16 candidates, totalling 80 fits\n",
      "[CV] END criterion=gini, max_depth=10, max_features=log2, n_estimators=100; total time=   0.2s\n",
      "[CV] END criterion=gini, max_depth=10, max_features=log2, n_estimators=100; total time=   0.2s\n",
      "[CV] END criterion=gini, max_depth=10, max_features=log2, n_estimators=100; total time=   0.2s\n",
      "[CV] END criterion=gini, max_depth=10, max_features=log2, n_estimators=100; total time=   0.2s\n",
      "[CV] END criterion=gini, max_depth=10, max_features=log2, n_estimators=100; total time=   0.2s\n",
      "[CV] END criterion=gini, max_depth=10, max_features=log2, n_estimators=200; total time=   0.5s\n",
      "[CV] END criterion=gini, max_depth=10, max_features=log2, n_estimators=200; total time=   0.5s\n",
      "[CV] END criterion=gini, max_depth=10, max_features=log2, n_estimators=200; total time=   0.5s\n",
      "[CV] END criterion=gini, max_depth=10, max_features=log2, n_estimators=200; total time=   0.5s\n",
      "[CV] END criterion=gini, max_depth=10, max_features=log2, n_estimators=200; total time=   0.5s\n",
      "[CV] END criterion=gini, max_depth=10, max_features=auto, n_estimators=100; total time=   0.2s\n",
      "[CV] END criterion=gini, max_depth=10, max_features=auto, n_estimators=100; total time=   0.2s\n",
      "[CV] END criterion=gini, max_depth=10, max_features=auto, n_estimators=100; total time=   0.2s\n",
      "[CV] END criterion=gini, max_depth=10, max_features=auto, n_estimators=100; total time=   0.2s\n",
      "[CV] END criterion=gini, max_depth=10, max_features=auto, n_estimators=100; total time=   0.2s\n",
      "[CV] END criterion=gini, max_depth=10, max_features=auto, n_estimators=200; total time=   0.5s\n",
      "[CV] END criterion=gini, max_depth=10, max_features=auto, n_estimators=200; total time=   0.5s\n",
      "[CV] END criterion=gini, max_depth=10, max_features=auto, n_estimators=200; total time=   0.5s\n",
      "[CV] END criterion=gini, max_depth=10, max_features=auto, n_estimators=200; total time=   0.5s\n",
      "[CV] END criterion=gini, max_depth=10, max_features=auto, n_estimators=200; total time=   0.5s\n",
      "[CV] END criterion=gini, max_depth=None, max_features=log2, n_estimators=100; total time=   0.2s\n",
      "[CV] END criterion=gini, max_depth=None, max_features=log2, n_estimators=100; total time=   0.2s\n",
      "[CV] END criterion=gini, max_depth=None, max_features=log2, n_estimators=100; total time=   0.2s\n",
      "[CV] END criterion=gini, max_depth=None, max_features=log2, n_estimators=100; total time=   0.2s\n",
      "[CV] END criterion=gini, max_depth=None, max_features=log2, n_estimators=100; total time=   0.2s\n",
      "[CV] END criterion=gini, max_depth=None, max_features=log2, n_estimators=200; total time=   0.4s\n",
      "[CV] END criterion=gini, max_depth=None, max_features=log2, n_estimators=200; total time=   0.5s\n",
      "[CV] END criterion=gini, max_depth=None, max_features=log2, n_estimators=200; total time=   0.5s\n",
      "[CV] END criterion=gini, max_depth=None, max_features=log2, n_estimators=200; total time=   0.5s\n",
      "[CV] END criterion=gini, max_depth=None, max_features=log2, n_estimators=200; total time=   0.5s\n",
      "[CV] END criterion=gini, max_depth=None, max_features=auto, n_estimators=100; total time=   0.2s\n",
      "[CV] END criterion=gini, max_depth=None, max_features=auto, n_estimators=100; total time=   0.2s\n",
      "[CV] END criterion=gini, max_depth=None, max_features=auto, n_estimators=100; total time=   0.2s\n",
      "[CV] END criterion=gini, max_depth=None, max_features=auto, n_estimators=100; total time=   0.2s\n",
      "[CV] END criterion=gini, max_depth=None, max_features=auto, n_estimators=100; total time=   0.2s\n",
      "[CV] END criterion=gini, max_depth=None, max_features=auto, n_estimators=200; total time=   0.5s\n",
      "[CV] END criterion=gini, max_depth=None, max_features=auto, n_estimators=200; total time=   0.5s\n",
      "[CV] END criterion=gini, max_depth=None, max_features=auto, n_estimators=200; total time=   0.5s\n",
      "[CV] END criterion=gini, max_depth=None, max_features=auto, n_estimators=200; total time=   0.5s\n",
      "[CV] END criterion=gini, max_depth=None, max_features=auto, n_estimators=200; total time=   0.5s\n",
      "[CV] END criterion=entropy, max_depth=10, max_features=log2, n_estimators=100; total time=   0.2s\n",
      "[CV] END criterion=entropy, max_depth=10, max_features=log2, n_estimators=100; total time=   0.2s\n",
      "[CV] END criterion=entropy, max_depth=10, max_features=log2, n_estimators=100; total time=   0.2s\n",
      "[CV] END criterion=entropy, max_depth=10, max_features=log2, n_estimators=100; total time=   0.2s\n",
      "[CV] END criterion=entropy, max_depth=10, max_features=log2, n_estimators=100; total time=   0.2s\n",
      "[CV] END criterion=entropy, max_depth=10, max_features=log2, n_estimators=200; total time=   0.5s\n",
      "[CV] END criterion=entropy, max_depth=10, max_features=log2, n_estimators=200; total time=   0.5s\n",
      "[CV] END criterion=entropy, max_depth=10, max_features=log2, n_estimators=200; total time=   0.5s\n",
      "[CV] END criterion=entropy, max_depth=10, max_features=log2, n_estimators=200; total time=   0.5s\n",
      "[CV] END criterion=entropy, max_depth=10, max_features=log2, n_estimators=200; total time=   0.5s\n",
      "[CV] END criterion=entropy, max_depth=10, max_features=auto, n_estimators=100; total time=   0.2s\n",
      "[CV] END criterion=entropy, max_depth=10, max_features=auto, n_estimators=100; total time=   0.2s\n",
      "[CV] END criterion=entropy, max_depth=10, max_features=auto, n_estimators=100; total time=   0.2s\n",
      "[CV] END criterion=entropy, max_depth=10, max_features=auto, n_estimators=100; total time=   0.2s\n",
      "[CV] END criterion=entropy, max_depth=10, max_features=auto, n_estimators=100; total time=   0.2s\n",
      "[CV] END criterion=entropy, max_depth=10, max_features=auto, n_estimators=200; total time=   0.5s\n",
      "[CV] END criterion=entropy, max_depth=10, max_features=auto, n_estimators=200; total time=   0.5s\n",
      "[CV] END criterion=entropy, max_depth=10, max_features=auto, n_estimators=200; total time=   0.5s\n",
      "[CV] END criterion=entropy, max_depth=10, max_features=auto, n_estimators=200; total time=   0.5s\n",
      "[CV] END criterion=entropy, max_depth=10, max_features=auto, n_estimators=200; total time=   0.5s\n",
      "[CV] END criterion=entropy, max_depth=None, max_features=log2, n_estimators=100; total time=   0.2s\n",
      "[CV] END criterion=entropy, max_depth=None, max_features=log2, n_estimators=100; total time=   0.2s\n",
      "[CV] END criterion=entropy, max_depth=None, max_features=log2, n_estimators=100; total time=   0.2s\n",
      "[CV] END criterion=entropy, max_depth=None, max_features=log2, n_estimators=100; total time=   0.2s\n",
      "[CV] END criterion=entropy, max_depth=None, max_features=log2, n_estimators=100; total time=   0.2s\n",
      "[CV] END criterion=entropy, max_depth=None, max_features=log2, n_estimators=200; total time=   0.5s\n",
      "[CV] END criterion=entropy, max_depth=None, max_features=log2, n_estimators=200; total time=   0.5s\n",
      "[CV] END criterion=entropy, max_depth=None, max_features=log2, n_estimators=200; total time=   0.5s\n",
      "[CV] END criterion=entropy, max_depth=None, max_features=log2, n_estimators=200; total time=   0.5s\n",
      "[CV] END criterion=entropy, max_depth=None, max_features=log2, n_estimators=200; total time=   0.5s\n",
      "[CV] END criterion=entropy, max_depth=None, max_features=auto, n_estimators=100; total time=   0.2s\n",
      "[CV] END criterion=entropy, max_depth=None, max_features=auto, n_estimators=100; total time=   0.2s\n",
      "[CV] END criterion=entropy, max_depth=None, max_features=auto, n_estimators=100; total time=   0.2s\n",
      "[CV] END criterion=entropy, max_depth=None, max_features=auto, n_estimators=100; total time=   0.2s\n",
      "[CV] END criterion=entropy, max_depth=None, max_features=auto, n_estimators=100; total time=   0.2s\n",
      "[CV] END criterion=entropy, max_depth=None, max_features=auto, n_estimators=200; total time=   0.5s\n",
      "[CV] END criterion=entropy, max_depth=None, max_features=auto, n_estimators=200; total time=   0.5s\n",
      "[CV] END criterion=entropy, max_depth=None, max_features=auto, n_estimators=200; total time=   0.5s\n",
      "[CV] END criterion=entropy, max_depth=None, max_features=auto, n_estimators=200; total time=   0.5s\n",
      "[CV] END criterion=entropy, max_depth=None, max_features=auto, n_estimators=200; total time=   0.5s\n"
     ]
    },
    {
     "data": {
      "text/plain": [
       "GridSearchCV(cv=5, estimator=RandomForestClassifier(random_state=1000),\n",
       "             param_grid={'criterion': ['gini', 'entropy'],\n",
       "                         'max_depth': [10, None],\n",
       "                         'max_features': ['log2', 'auto'],\n",
       "                         'n_estimators': [100, 200]},\n",
       "             verbose=2)"
      ]
     },
     "execution_count": 102,
     "metadata": {},
     "output_type": "execute_result"
    }
   ],
   "source": [
    "grid.fit(X_train,y_train)"
   ]
  },
  {
   "cell_type": "code",
   "execution_count": 103,
   "id": "ea342ccb",
   "metadata": {},
   "outputs": [
    {
     "data": {
      "text/plain": [
       "{'criterion': 'gini',\n",
       " 'max_depth': 10,\n",
       " 'max_features': 'log2',\n",
       " 'n_estimators': 100}"
      ]
     },
     "execution_count": 103,
     "metadata": {},
     "output_type": "execute_result"
    }
   ],
   "source": [
    "grid.best_params_"
   ]
  },
  {
   "cell_type": "code",
   "execution_count": 104,
   "id": "80ea1dd5",
   "metadata": {},
   "outputs": [
    {
     "data": {
      "text/plain": [
       "RandomForestClassifier(max_depth=10, max_features='log2', random_state=1000)"
      ]
     },
     "execution_count": 104,
     "metadata": {},
     "output_type": "execute_result"
    }
   ],
   "source": [
    "grid.best_estimator_"
   ]
  },
  {
   "cell_type": "code",
   "execution_count": 106,
   "id": "31c3cfa2",
   "metadata": {},
   "outputs": [],
   "source": [
    "y_hat_optimized = grid.predict(X_test)"
   ]
  },
  {
   "cell_type": "code",
   "execution_count": 108,
   "id": "afa2c2b8",
   "metadata": {},
   "outputs": [
    {
     "name": "stdout",
     "output_type": "stream",
     "text": [
      "[[4819    0]\n",
      " [   0  395]]\n"
     ]
    }
   ],
   "source": [
    "print(confusion_matrix(y_test, y_hat_optimized))"
   ]
  },
  {
   "cell_type": "code",
   "execution_count": 109,
   "id": "c9dc4093",
   "metadata": {},
   "outputs": [
    {
     "name": "stdout",
     "output_type": "stream",
     "text": [
      "              precision    recall  f1-score   support\n",
      "\n",
      "           0       1.00      1.00      1.00      4819\n",
      "           1       1.00      1.00      1.00       395\n",
      "\n",
      "    accuracy                           1.00      5214\n",
      "   macro avg       1.00      1.00      1.00      5214\n",
      "weighted avg       1.00      1.00      1.00      5214\n",
      "\n"
     ]
    }
   ],
   "source": [
    "print(classification_report(y_test, y_hat_optimized))"
   ]
  },
  {
   "cell_type": "markdown",
   "id": "e88476fd",
   "metadata": {},
   "source": [
    "### Cross Validation"
   ]
  },
  {
   "cell_type": "code",
   "execution_count": 112,
   "id": "d4afab74",
   "metadata": {},
   "outputs": [
    {
     "data": {
      "text/plain": [
       "1.0"
      ]
     },
     "execution_count": 112,
     "metadata": {},
     "output_type": "execute_result"
    }
   ],
   "source": [
    "from sklearn.model_selection import cross_val_score\n",
    "\n",
    "R2 = cross_val_score(estimator = RandomForestClassifier(max_depth=20, max_features='sqrt', n_estimators=500), X = X_train, y = y_train, cv = 5 , scoring=\"r2\" )\n",
    "\n",
    "R2_CV = round(np.mean(R2),4)\n",
    "R2_CV"
   ]
  },
  {
   "cell_type": "markdown",
   "id": "8adf8abe",
   "metadata": {},
   "source": [
    "### OOB observations\n"
   ]
  },
  {
   "cell_type": "code",
   "execution_count": 113,
   "id": "5f941635",
   "metadata": {},
   "outputs": [
    {
     "data": {
      "text/plain": [
       "array([55, 82, 61, 56, 60, 97, 96,  6, 73, 83, 25, 28,  5,  1, 31, 95, 71,\n",
       "       64, 73, 16, 53, 64, 13, 73, 10, 86, 26,  6, 93, 87, 27, 15, 84, 65,\n",
       "       18, 51, 56,  5, 86, 89, 42, 15, 23, 89, 42, 72, 24, 85,  9, 12, 31,\n",
       "       81, 90, 41, 27, 28, 83, 87, 39, 68, 59, 18,  4, 58, 52, 26, 52,  1,\n",
       "       67, 89, 91,  6, 89, 65, 43, 84, 40, 65, 64, 42, 45, 41, 95, 47, 78,\n",
       "       57,  1, 66, 27,  6, 51, 44, 44, 35, 22, 45, 54, 53,  0, 58])"
      ]
     },
     "execution_count": 113,
     "metadata": {},
     "output_type": "execute_result"
    }
   ],
   "source": [
    "np.random.choice(100,size=100)"
   ]
  },
  {
   "cell_type": "code",
   "execution_count": 114,
   "id": "4f0ce7df",
   "metadata": {},
   "outputs": [
    {
     "data": {
      "text/plain": [
       "58"
      ]
     },
     "execution_count": 114,
     "metadata": {},
     "output_type": "execute_result"
    }
   ],
   "source": [
    "np.unique(np.random.choice (100,size=100)).size"
   ]
  },
  {
   "cell_type": "code",
   "execution_count": 115,
   "id": "c86d7681",
   "metadata": {},
   "outputs": [],
   "source": [
    "RF_oob = RandomForestClassifier(max_depth=20, max_features='sqrt', n_estimators=500, oob_score=True)"
   ]
  },
  {
   "cell_type": "code",
   "execution_count": 116,
   "id": "ea16a2ba",
   "metadata": {},
   "outputs": [
    {
     "data": {
      "text/plain": [
       "RandomForestClassifier(max_depth=20, max_features='sqrt', n_estimators=500,\n",
       "                       oob_score=True)"
      ]
     },
     "execution_count": 116,
     "metadata": {},
     "output_type": "execute_result"
    }
   ],
   "source": [
    "RF_oob.fit(X_train, y_train)"
   ]
  },
  {
   "cell_type": "code",
   "execution_count": 117,
   "id": "0c260fc6",
   "metadata": {},
   "outputs": [
    {
     "data": {
      "text/plain": [
       "1.0"
      ]
     },
     "execution_count": 117,
     "metadata": {},
     "output_type": "execute_result"
    }
   ],
   "source": [
    "RF_oob.oob_score_"
   ]
  },
  {
   "cell_type": "markdown",
   "id": "e89747d6",
   "metadata": {},
   "source": [
    "### Dealing with imbalanced data"
   ]
  },
  {
   "cell_type": "code",
   "execution_count": 118,
   "id": "a764512f",
   "metadata": {},
   "outputs": [],
   "source": [
    "RF_balanced = RandomForestClassifier(random_state=1000, criterion='entropy', max_features='log2', max_depth=10, class_weight='balanced_subsample')"
   ]
  },
  {
   "cell_type": "code",
   "execution_count": 119,
   "id": "64fe6ccb",
   "metadata": {},
   "outputs": [],
   "source": [
    "y_hat_balanced = RF_balanced.fit(X_train, y_train).predict(X_test)"
   ]
  },
  {
   "cell_type": "code",
   "execution_count": 120,
   "id": "a7f92c53",
   "metadata": {},
   "outputs": [
    {
     "name": "stdout",
     "output_type": "stream",
     "text": [
      "[[4819    0]\n",
      " [   0  395]]\n"
     ]
    }
   ],
   "source": [
    "print(confusion_matrix(y_test, y_hat_balanced))"
   ]
  },
  {
   "cell_type": "code",
   "execution_count": 121,
   "id": "5b572e4d",
   "metadata": {},
   "outputs": [
    {
     "name": "stdout",
     "output_type": "stream",
     "text": [
      "              precision    recall  f1-score   support\n",
      "\n",
      "           0       1.00      1.00      1.00      4819\n",
      "           1       1.00      1.00      1.00       395\n",
      "\n",
      "    accuracy                           1.00      5214\n",
      "   macro avg       1.00      1.00      1.00      5214\n",
      "weighted avg       1.00      1.00      1.00      5214\n",
      "\n"
     ]
    }
   ],
   "source": [
    "print(classification_report(y_test, y_hat_balanced))"
   ]
  },
  {
   "cell_type": "markdown",
   "id": "26095bdf",
   "metadata": {},
   "source": [
    "### Plot the ROC curve for the balanced RF and report the AUC"
   ]
  },
  {
   "cell_type": "code",
   "execution_count": 122,
   "id": "ec011a55",
   "metadata": {},
   "outputs": [],
   "source": [
    "from sklearn.metrics import roc_curve, roc_auc_score"
   ]
  },
  {
   "cell_type": "code",
   "execution_count": 123,
   "id": "affa6d74",
   "metadata": {},
   "outputs": [
    {
     "name": "stdout",
     "output_type": "stream",
     "text": [
      "No Skill     : ROC AUC=0.500\n",
      "Random Forest: ROC AUC=1.000\n"
     ]
    },
    {
     "data": {
      "image/png": "[encoded data removed]",
      "text/plain": [
       "<Figure size 432x288 with 1 Axes>"
      ]
     },
     "metadata": {},
     "output_type": "display_data"
    }
   ],
   "source": [
    "# generate a no skill (ns) prediction and logistic regression (lr) predictions.\n",
    "ns_probs = [0 for i in range(len(y_test))]\n",
    "lr_probs = RF_balanced.predict_proba(X_test)[:,1]\n",
    "# calculating scores for no skill and logistic regression\n",
    "ns_auc = roc_auc_score(y_test, ns_probs)\n",
    "lr_auc = roc_auc_score(y_test, lr_probs)\n",
    "print('No Skill     : ROC AUC=%.3f' % (ns_auc))\n",
    "print('Random Forest: ROC AUC=%.3f' % (lr_auc))\n",
    "\n",
    "# calculate roc curves\n",
    "ns_fpr, ns_tpr, _ = roc_curve(y_test, ns_probs)\n",
    "lr_fpr, lr_tpr, _ = roc_curve(y_test, lr_probs)\n",
    "# plot the roc curve for the model\n",
    "plt.plot(ns_fpr, ns_tpr, linestyle='--', label='No Skill')\n",
    "plt.plot(lr_fpr, lr_tpr, marker='.', label='Random Forest (balanced)')\n",
    "# axis labels\n",
    "plt.xlabel('False Positive Rate')\n",
    "plt.ylabel('True Positive Rate')\n",
    "# show the legend\n",
    "plt.legend()\n",
    "# show the plot\n",
    "plt.show()"
   ]
  },
  {
   "cell_type": "markdown",
   "id": "a8dfb4f9",
   "metadata": {},
   "source": [
    "### Feature Importance\n"
   ]
  },
  {
   "cell_type": "code",
   "execution_count": 124,
   "id": "2ff74f9d",
   "metadata": {},
   "outputs": [
    {
     "data": {
      "text/plain": [
       "['season',\n",
       " 'yr',\n",
       " 'mnth',\n",
       " 'hr',\n",
       " 'holiday',\n",
       " 'weekday',\n",
       " 'notbizday',\n",
       " 'weathersit',\n",
       " 'temp',\n",
       " 'hum',\n",
       " 'windspeed',\n",
       " 'cnt']"
      ]
     },
     "execution_count": 124,
     "metadata": {},
     "output_type": "execute_result"
    }
   ],
   "source": [
    "features = list(X_train.columns)\n",
    "features"
   ]
  },
  {
   "cell_type": "code",
   "execution_count": 125,
   "id": "3c9a0a9a",
   "metadata": {},
   "outputs": [
    {
     "data": {
      "text/plain": [
       "array([1.37150453e-02, 5.72370134e-02, 1.32059983e-02, 1.25485609e-01,\n",
       "       6.70081452e-04, 3.99598270e-03, 5.91144354e-03, 2.76888234e-03,\n",
       "       3.07229741e-02, 1.60336872e-02, 3.40627699e-03, 7.26847005e-01])"
      ]
     },
     "execution_count": 125,
     "metadata": {},
     "output_type": "execute_result"
    }
   ],
   "source": [
    "importance = RF_balanced.feature_importances_\n",
    "importance"
   ]
  },
  {
   "cell_type": "code",
   "execution_count": 126,
   "id": "52f548e7",
   "metadata": {},
   "outputs": [
    {
     "data": {
      "text/html": [
       "<div>\n",
       "<style scoped>\n",
       "    .dataframe tbody tr th:only-of-type {\n",
       "        vertical-align: middle;\n",
       "    }\n",
       "\n",
       "    .dataframe tbody tr th {\n",
       "        vertical-align: top;\n",
       "    }\n",
       "\n",
       "    .dataframe thead th {\n",
       "        text-align: right;\n",
       "    }\n",
       "</style>\n",
       "<table border=\"1\" class=\"dataframe\">\n",
       "  <thead>\n",
       "    <tr style=\"text-align: right;\">\n",
       "      <th></th>\n",
       "      <th>Features</th>\n",
       "      <th>Feature_importance</th>\n",
       "    </tr>\n",
       "  </thead>\n",
       "  <tbody>\n",
       "    <tr>\n",
       "      <th>4</th>\n",
       "      <td>holiday</td>\n",
       "      <td>0.000670</td>\n",
       "    </tr>\n",
       "    <tr>\n",
       "      <th>7</th>\n",
       "      <td>weathersit</td>\n",
       "      <td>0.002769</td>\n",
       "    </tr>\n",
       "    <tr>\n",
       "      <th>10</th>\n",
       "      <td>windspeed</td>\n",
       "      <td>0.003406</td>\n",
       "    </tr>\n",
       "    <tr>\n",
       "      <th>5</th>\n",
       "      <td>weekday</td>\n",
       "      <td>0.003996</td>\n",
       "    </tr>\n",
       "    <tr>\n",
       "      <th>6</th>\n",
       "      <td>notbizday</td>\n",
       "      <td>0.005911</td>\n",
       "    </tr>\n",
       "    <tr>\n",
       "      <th>2</th>\n",
       "      <td>mnth</td>\n",
       "      <td>0.013206</td>\n",
       "    </tr>\n",
       "    <tr>\n",
       "      <th>0</th>\n",
       "      <td>season</td>\n",
       "      <td>0.013715</td>\n",
       "    </tr>\n",
       "    <tr>\n",
       "      <th>9</th>\n",
       "      <td>hum</td>\n",
       "      <td>0.016034</td>\n",
       "    </tr>\n",
       "    <tr>\n",
       "      <th>8</th>\n",
       "      <td>temp</td>\n",
       "      <td>0.030723</td>\n",
       "    </tr>\n",
       "    <tr>\n",
       "      <th>1</th>\n",
       "      <td>yr</td>\n",
       "      <td>0.057237</td>\n",
       "    </tr>\n",
       "    <tr>\n",
       "      <th>3</th>\n",
       "      <td>hr</td>\n",
       "      <td>0.125486</td>\n",
       "    </tr>\n",
       "    <tr>\n",
       "      <th>11</th>\n",
       "      <td>cnt</td>\n",
       "      <td>0.726847</td>\n",
       "    </tr>\n",
       "  </tbody>\n",
       "</table>\n",
       "</div>"
      ],
      "text/plain": [
       "      Features  Feature_importance\n",
       "4      holiday            0.000670\n",
       "7   weathersit            0.002769\n",
       "10   windspeed            0.003406\n",
       "5      weekday            0.003996\n",
       "6    notbizday            0.005911\n",
       "2         mnth            0.013206\n",
       "0       season            0.013715\n",
       "9          hum            0.016034\n",
       "8         temp            0.030723\n",
       "1           yr            0.057237\n",
       "3           hr            0.125486\n",
       "11         cnt            0.726847"
      ]
     },
     "execution_count": 126,
     "metadata": {},
     "output_type": "execute_result"
    }
   ],
   "source": [
    "FIM = pd.DataFrame({'Features': features , 'Feature_importance':importance})\n",
    "FIM = FIM.sort_values(by=['Feature_importance'])\n",
    "FIM"
   ]
  },
  {
   "cell_type": "code",
   "execution_count": 127,
   "id": "a3bd6207",
   "metadata": {},
   "outputs": [
    {
     "data": {
      "image/png": "[encoded data removed]",
      "text/plain": [
       "<Figure size 720x432 with 1 Axes>"
      ]
     },
     "metadata": {},
     "output_type": "display_data"
    }
   ],
   "source": [
    "plt.figure(figsize=(10,6))\n",
    "plt.title('Feature Importance')\n",
    "sns.barplot(y='Features', x='Feature_importance', data=FIM)\n",
    "plt.show()"
   ]
  }
 ],
 "metadata": {
  "kernelspec": {
   "display_name": "Python 3 (ipykernel)",
   "language": "python",
   "name": "python3"
  },
  "language_info": {
   "codemirror_mode": {
    "name": "ipython",
    "version": 3
   },
   "file_extension": ".py",
   "mimetype": "text/x-python",
   "name": "python",
   "nbconvert_exporter": "python",
   "pygments_lexer": "ipython3",
   "version": "3.9.12"
  }
 },
 "nbformat": 4,
 "nbformat_minor": 5
}
