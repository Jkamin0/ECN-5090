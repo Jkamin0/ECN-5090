{
 "cells": [
  {
   "cell_type": "code",
   "execution_count": 1,
   "metadata": {
    "id": "Hfk131Tuxpez"
   },
   "outputs": [],
   "source": [
    "import numpy as np\n",
    "import pandas as pd\n",
    "import matplotlib.pyplot as plt\n",
    "import seaborn as sns\n",
    "sns.set()\n",
    "import warnings\n",
    "warnings.filterwarnings('ignore')"
   ]
  },
  {
   "cell_type": "code",
   "execution_count": 2,
   "metadata": {
    "id": "e8IHsihPysRv"
   },
   "outputs": [],
   "source": [
    "randstate = 1000"
   ]
  },
  {
   "cell_type": "code",
   "execution_count": 3,
   "metadata": {
    "colab": {
     "base_uri": "https://localhost:8080/"
    },
    "id": "Fx0yf3gdyue2",
    "outputId": "08c96b21-4a81-4400-e7a8-cf14075deb99"
   },
   "outputs": [],
   "source": [
    "df = pd.read_csv(\"bikeshare.csv\")"
   ]
  },
  {
   "cell_type": "code",
   "execution_count": 4,
   "metadata": {
    "colab": {
     "base_uri": "https://localhost:8080/",
     "height": 206
    },
    "id": "0hkXXCFMzc6e",
    "outputId": "5376be9e-0b75-42a3-f38d-23d531a7f423"
   },
   "outputs": [
    {
     "data": {
      "text/html": [
       "<div>\n",
       "<style scoped>\n",
       "    .dataframe tbody tr th:only-of-type {\n",
       "        vertical-align: middle;\n",
       "    }\n",
       "\n",
       "    .dataframe tbody tr th {\n",
       "        vertical-align: top;\n",
       "    }\n",
       "\n",
       "    .dataframe thead th {\n",
       "        text-align: right;\n",
       "    }\n",
       "</style>\n",
       "<table border=\"1\" class=\"dataframe\">\n",
       "  <thead>\n",
       "    <tr style=\"text-align: right;\">\n",
       "      <th></th>\n",
       "      <th>season</th>\n",
       "      <th>yr</th>\n",
       "      <th>mnth</th>\n",
       "      <th>hr</th>\n",
       "      <th>holiday</th>\n",
       "      <th>weekday</th>\n",
       "      <th>notbizday</th>\n",
       "      <th>weathersit</th>\n",
       "      <th>temp</th>\n",
       "      <th>hum</th>\n",
       "      <th>windspeed</th>\n",
       "      <th>dteday</th>\n",
       "      <th>cnt</th>\n",
       "    </tr>\n",
       "  </thead>\n",
       "  <tbody>\n",
       "    <tr>\n",
       "      <th>0</th>\n",
       "      <td>1</td>\n",
       "      <td>0</td>\n",
       "      <td>1</td>\n",
       "      <td>0</td>\n",
       "      <td>0</td>\n",
       "      <td>6</td>\n",
       "      <td>1</td>\n",
       "      <td>1</td>\n",
       "      <td>-1.334609</td>\n",
       "      <td>0.947345</td>\n",
       "      <td>-1.553844</td>\n",
       "      <td>2011-01-01</td>\n",
       "      <td>16</td>\n",
       "    </tr>\n",
       "    <tr>\n",
       "      <th>1</th>\n",
       "      <td>1</td>\n",
       "      <td>0</td>\n",
       "      <td>1</td>\n",
       "      <td>1</td>\n",
       "      <td>0</td>\n",
       "      <td>6</td>\n",
       "      <td>1</td>\n",
       "      <td>1</td>\n",
       "      <td>-1.438475</td>\n",
       "      <td>0.895513</td>\n",
       "      <td>-1.553844</td>\n",
       "      <td>2011-01-01</td>\n",
       "      <td>40</td>\n",
       "    </tr>\n",
       "    <tr>\n",
       "      <th>2</th>\n",
       "      <td>1</td>\n",
       "      <td>0</td>\n",
       "      <td>1</td>\n",
       "      <td>2</td>\n",
       "      <td>0</td>\n",
       "      <td>6</td>\n",
       "      <td>1</td>\n",
       "      <td>1</td>\n",
       "      <td>-1.438475</td>\n",
       "      <td>0.895513</td>\n",
       "      <td>-1.553844</td>\n",
       "      <td>2011-01-01</td>\n",
       "      <td>32</td>\n",
       "    </tr>\n",
       "    <tr>\n",
       "      <th>3</th>\n",
       "      <td>1</td>\n",
       "      <td>0</td>\n",
       "      <td>1</td>\n",
       "      <td>3</td>\n",
       "      <td>0</td>\n",
       "      <td>6</td>\n",
       "      <td>1</td>\n",
       "      <td>1</td>\n",
       "      <td>-1.334609</td>\n",
       "      <td>0.636351</td>\n",
       "      <td>-1.553844</td>\n",
       "      <td>2011-01-01</td>\n",
       "      <td>13</td>\n",
       "    </tr>\n",
       "    <tr>\n",
       "      <th>4</th>\n",
       "      <td>1</td>\n",
       "      <td>0</td>\n",
       "      <td>1</td>\n",
       "      <td>4</td>\n",
       "      <td>0</td>\n",
       "      <td>6</td>\n",
       "      <td>1</td>\n",
       "      <td>1</td>\n",
       "      <td>-1.334609</td>\n",
       "      <td>0.636351</td>\n",
       "      <td>-1.553844</td>\n",
       "      <td>2011-01-01</td>\n",
       "      <td>1</td>\n",
       "    </tr>\n",
       "  </tbody>\n",
       "</table>\n",
       "</div>"
      ],
      "text/plain": [
       "   season  yr  mnth  hr  holiday  weekday  notbizday  weathersit      temp  \\\n",
       "0       1   0     1   0        0        6          1           1 -1.334609   \n",
       "1       1   0     1   1        0        6          1           1 -1.438475   \n",
       "2       1   0     1   2        0        6          1           1 -1.438475   \n",
       "3       1   0     1   3        0        6          1           1 -1.334609   \n",
       "4       1   0     1   4        0        6          1           1 -1.334609   \n",
       "\n",
       "        hum  windspeed      dteday  cnt  \n",
       "0  0.947345  -1.553844  2011-01-01   16  \n",
       "1  0.895513  -1.553844  2011-01-01   40  \n",
       "2  0.895513  -1.553844  2011-01-01   32  \n",
       "3  0.636351  -1.553844  2011-01-01   13  \n",
       "4  0.636351  -1.553844  2011-01-01    1  "
      ]
     },
     "execution_count": 4,
     "metadata": {},
     "output_type": "execute_result"
    }
   ],
   "source": [
    "df.head()"
   ]
  },
  {
   "cell_type": "code",
   "execution_count": 5,
   "metadata": {
    "id": "IrRyvCVJzgbq"
   },
   "outputs": [],
   "source": [
    "df.drop('dteday', axis=1, inplace=True)"
   ]
  },
  {
   "cell_type": "code",
   "execution_count": 6,
   "metadata": {
    "colab": {
     "base_uri": "https://localhost:8080/"
    },
    "id": "P2SD5wn7zpHS",
    "outputId": "39b0f4e2-f484-4984-acdc-4e22efa5cf71"
   },
   "outputs": [
    {
     "data": {
      "text/plain": [
       "season        0.0\n",
       "yr            0.0\n",
       "mnth          0.0\n",
       "hr            0.0\n",
       "holiday       0.0\n",
       "weekday       0.0\n",
       "notbizday     0.0\n",
       "weathersit    0.0\n",
       "temp          0.0\n",
       "hum           0.0\n",
       "windspeed     0.0\n",
       "cnt           0.0\n",
       "dtype: float64"
      ]
     },
     "execution_count": 6,
     "metadata": {},
     "output_type": "execute_result"
    }
   ],
   "source": [
    "# no null values, great!\n",
    "\n",
    "df.isnull().sum()/len(df)"
   ]
  },
  {
   "cell_type": "code",
   "execution_count": 7,
   "metadata": {
    "colab": {
     "base_uri": "https://localhost:8080/"
    },
    "id": "BO-bx_5czxYO",
    "outputId": "f8b3d96c-80f6-4287-eb1b-12da2ef4834a"
   },
   "outputs": [
    {
     "data": {
      "text/plain": [
       "2"
      ]
     },
     "execution_count": 7,
     "metadata": {},
     "output_type": "execute_result"
    }
   ],
   "source": [
    "sum(df.duplicated())"
   ]
  },
  {
   "cell_type": "code",
   "execution_count": 8,
   "metadata": {
    "id": "-IxWVHn4z1Nn"
   },
   "outputs": [],
   "source": [
    "# let's go ahead and drop those 2 duplicates\n",
    "\n",
    "df.drop_duplicates(inplace=True)"
   ]
  },
  {
   "cell_type": "markdown",
   "metadata": {
    "id": "YUfnXy-W0BEe"
   },
   "source": [
    "# **Boosting Regression**"
   ]
  },
  {
   "cell_type": "markdown",
   "metadata": {
    "id": "lV-a9edC0IQ2"
   },
   "source": [
    "## Question 1"
   ]
  },
  {
   "cell_type": "code",
   "execution_count": 9,
   "metadata": {
    "id": "08A_DUtH0LPm"
   },
   "outputs": [],
   "source": [
    "from sklearn.model_selection import train_test_split\n",
    "\n",
    "y = df['cnt']\n",
    "X = df.drop('cnt', axis=1, inplace=False)\n",
    "\n",
    "X_train, X_test, y_train, y_test = train_test_split(X,y, test_size=0.3, random_state=randstate)"
   ]
  },
  {
   "cell_type": "markdown",
   "metadata": {
    "id": "jdxeeGY_0wa3"
   },
   "source": [
    "First, let's go ahead and build our vanilla RF model. We will then build out our boosting models and reference the RF model as a benchmark."
   ]
  },
  {
   "cell_type": "markdown",
   "metadata": {
    "id": "e1rT4Dyb3WC5"
   },
   "source": [
    "#### *Speed*"
   ]
  },
  {
   "cell_type": "code",
   "execution_count": 10,
   "metadata": {
    "id": "61FQ08r_0_ZX"
   },
   "outputs": [],
   "source": [
    "from sklearn.ensemble import RandomForestRegressor"
   ]
  },
  {
   "cell_type": "code",
   "execution_count": 18,
   "metadata": {
    "colab": {
     "base_uri": "https://localhost:8080/"
    },
    "id": "cbY1HpQD1I8e",
    "outputId": "e2e2bc94-7360-43bb-ad68-65bd49f83d58"
   },
   "outputs": [
    {
     "data": {
      "text/plain": [
       "RandomForestRegressor(random_state=1000)"
      ]
     },
     "execution_count": 18,
     "metadata": {},
     "output_type": "execute_result"
    }
   ],
   "source": [
    "# trained vanilla RF model\n",
    "\n",
    "# %%time\n",
    "RF_regression = RandomForestRegressor(random_state=randstate, n_estimators=100)\n",
    "RF_regression.fit(X_train, y_train)"
   ]
  },
  {
   "cell_type": "code",
   "execution_count": 14,
   "metadata": {
    "id": "36rbdN4-1hkt"
   },
   "outputs": [],
   "source": [
    "from sklearn.ensemble import AdaBoostRegressor, GradientBoostingRegressor\n",
    "from xgboost import XGBRegressor"
   ]
  },
  {
   "cell_type": "code",
   "execution_count": 16,
   "metadata": {
    "colab": {
     "base_uri": "https://localhost:8080/"
    },
    "id": "kfJbiMFW2SOL",
    "outputId": "a2e27c84-6435-438f-b754-14f6823572c4"
   },
   "outputs": [
    {
     "name": "stdout",
     "output_type": "stream",
     "text": [
      "CPU times: total: 469 ms\n",
      "Wall time: 470 ms\n"
     ]
    },
    {
     "data": {
      "text/plain": [
       "AdaBoostRegressor(n_estimators=100, random_state=1000)"
      ]
     },
     "execution_count": 16,
     "metadata": {},
     "output_type": "execute_result"
    }
   ],
   "source": [
    "%%time\n",
    "ADB_regression = AdaBoostRegressor(random_state=randstate, n_estimators=100)\n",
    "ADB_regression.fit(X_train, y_train)"
   ]
  },
  {
   "cell_type": "markdown",
   "metadata": {
    "id": "19G3oSBI2nEg"
   },
   "source": [
    "- Look at that time difference between vanilla RF and Adaboost!"
   ]
  },
  {
   "cell_type": "code",
   "execution_count": 19,
   "metadata": {
    "colab": {
     "base_uri": "https://localhost:8080/"
    },
    "id": "SWUqdwOk2rsV",
    "outputId": "e95eda32-7814-4b67-c6c2-c58644279d6f"
   },
   "outputs": [
    {
     "name": "stdout",
     "output_type": "stream",
     "text": [
      "CPU times: total: 688 ms\n",
      "Wall time: 694 ms\n"
     ]
    },
    {
     "data": {
      "text/plain": [
       "GradientBoostingRegressor(random_state=1000)"
      ]
     },
     "execution_count": 19,
     "metadata": {},
     "output_type": "execute_result"
    }
   ],
   "source": [
    "%%time\n",
    "GBM_regression = GradientBoostingRegressor(random_state=randstate, n_estimators=100)\n",
    "GBM_regression.fit(X_train, y_train)"
   ]
  },
  {
   "cell_type": "code",
   "execution_count": 20,
   "metadata": {
    "colab": {
     "base_uri": "https://localhost:8080/"
    },
    "id": "SJJMrIV_26Hy",
    "outputId": "19c936be-9516-4259-f418-713f2cf95fba"
   },
   "outputs": [
    {
     "name": "stdout",
     "output_type": "stream",
     "text": [
      "CPU times: total: 2.78 s\n",
      "Wall time: 208 ms\n"
     ]
    },
    {
     "data": {
      "text/plain": [
       "XGBRegressor(base_score=0.5, booster='gbtree', callbacks=None,\n",
       "             colsample_bylevel=1, colsample_bynode=1, colsample_bytree=1,\n",
       "             early_stopping_rounds=None, enable_categorical=False,\n",
       "             eval_metric=None, feature_types=None, gamma=0, gpu_id=-1,\n",
       "             grow_policy='depthwise', importance_type=None,\n",
       "             interaction_constraints='', learning_rate=0.300000012, max_bin=256,\n",
       "             max_cat_threshold=64, max_cat_to_onehot=4, max_delta_step=0,\n",
       "             max_depth=6, max_leaves=0, min_child_weight=1, missing=nan,\n",
       "             monotone_constraints='()', n_estimators=100, n_jobs=0,\n",
       "             num_parallel_tree=1, predictor='auto', random_state=1000, ...)"
      ]
     },
     "execution_count": 20,
     "metadata": {},
     "output_type": "execute_result"
    }
   ],
   "source": [
    "%%time\n",
    "XGB_regression = XGBRegressor(random_state=randstate, n_estimators=100)\n",
    "XGB_regression.fit(X_train, y_train)"
   ]
  },
  {
   "cell_type": "markdown",
   "metadata": {
    "id": "3zRbA5Ss3Mhf"
   },
   "source": [
    "No surprise, XGBoost is the fastest. From fastest to slowest, the ranking is as follows:\n",
    "\n",
    "1. XGBoost\n",
    "2. AdaBoost\n",
    "3. GBM\n",
    "4. Random Forest "
   ]
  },
  {
   "cell_type": "markdown",
   "metadata": {
    "id": "XN-VCU-n3a9Q"
   },
   "source": [
    "#### *Performance*"
   ]
  },
  {
   "cell_type": "code",
   "execution_count": 21,
   "metadata": {
    "id": "tysYJwhH3e-R"
   },
   "outputs": [],
   "source": [
    "y_hat_RF = RF_regression.predict(X_test)\n",
    "y_hat_ADB = ADB_regression.predict(X_test)\n",
    "y_hat_GBM = GBM_regression.predict(X_test)\n",
    "y_hat_XGB = XGB_regression.predict(X_test)"
   ]
  },
  {
   "cell_type": "code",
   "execution_count": 22,
   "metadata": {
    "colab": {
     "base_uri": "https://localhost:8080/",
     "height": 206
    },
    "id": "EDSc7f8H6tVb",
    "outputId": "edbeae66-68dd-4a00-b187-2473fd0f7e6a"
   },
   "outputs": [
    {
     "data": {
      "text/html": [
       "<div>\n",
       "<style scoped>\n",
       "    .dataframe tbody tr th:only-of-type {\n",
       "        vertical-align: middle;\n",
       "    }\n",
       "\n",
       "    .dataframe tbody tr th {\n",
       "        vertical-align: top;\n",
       "    }\n",
       "\n",
       "    .dataframe thead th {\n",
       "        text-align: right;\n",
       "    }\n",
       "</style>\n",
       "<table border=\"1\" class=\"dataframe\">\n",
       "  <thead>\n",
       "    <tr style=\"text-align: right;\">\n",
       "      <th></th>\n",
       "      <th>y_test</th>\n",
       "      <th>y_hat_RF</th>\n",
       "      <th>y_hat_ADB</th>\n",
       "      <th>y_hat_GBM</th>\n",
       "      <th>y_hat_XGB</th>\n",
       "    </tr>\n",
       "  </thead>\n",
       "  <tbody>\n",
       "    <tr>\n",
       "      <th>4495</th>\n",
       "      <td>26</td>\n",
       "      <td>21.51</td>\n",
       "      <td>34.971014</td>\n",
       "      <td>11.944526</td>\n",
       "      <td>28.991903</td>\n",
       "    </tr>\n",
       "    <tr>\n",
       "      <th>4418</th>\n",
       "      <td>47</td>\n",
       "      <td>63.72</td>\n",
       "      <td>62.055024</td>\n",
       "      <td>43.340632</td>\n",
       "      <td>81.034119</td>\n",
       "    </tr>\n",
       "    <tr>\n",
       "      <th>7141</th>\n",
       "      <td>11</td>\n",
       "      <td>5.27</td>\n",
       "      <td>34.971014</td>\n",
       "      <td>11.875055</td>\n",
       "      <td>-4.260192</td>\n",
       "    </tr>\n",
       "    <tr>\n",
       "      <th>14766</th>\n",
       "      <td>232</td>\n",
       "      <td>245.43</td>\n",
       "      <td>448.818367</td>\n",
       "      <td>327.307810</td>\n",
       "      <td>246.974426</td>\n",
       "    </tr>\n",
       "    <tr>\n",
       "      <th>13601</th>\n",
       "      <td>278</td>\n",
       "      <td>244.99</td>\n",
       "      <td>379.906046</td>\n",
       "      <td>246.650621</td>\n",
       "      <td>270.168213</td>\n",
       "    </tr>\n",
       "  </tbody>\n",
       "</table>\n",
       "</div>"
      ],
      "text/plain": [
       "       y_test  y_hat_RF   y_hat_ADB   y_hat_GBM   y_hat_XGB\n",
       "4495       26     21.51   34.971014   11.944526   28.991903\n",
       "4418       47     63.72   62.055024   43.340632   81.034119\n",
       "7141       11      5.27   34.971014   11.875055   -4.260192\n",
       "14766     232    245.43  448.818367  327.307810  246.974426\n",
       "13601     278    244.99  379.906046  246.650621  270.168213"
      ]
     },
     "execution_count": 22,
     "metadata": {},
     "output_type": "execute_result"
    }
   ],
   "source": [
    "predictions = pd.DataFrame({'y_test':y_test, 'y_hat_RF':y_hat_RF, 'y_hat_ADB':y_hat_ADB, \n",
    "                            'y_hat_GBM':y_hat_GBM, 'y_hat_XGB':y_hat_XGB})\n",
    "predictions.head()"
   ]
  },
  {
   "cell_type": "code",
   "execution_count": 23,
   "metadata": {
    "colab": {
     "base_uri": "https://localhost:8080/"
    },
    "id": "B8URlM-U6bvT",
    "outputId": "60f9dbbb-ec14-4746-f7f4-3f6254f9dc2d"
   },
   "outputs": [
    {
     "data": {
      "text/plain": [
       "0.9479"
      ]
     },
     "execution_count": 23,
     "metadata": {},
     "output_type": "execute_result"
    }
   ],
   "source": [
    "np.round(RF_regression.score(X_test, y_test), 4)\n"
   ]
  },
  {
   "cell_type": "code",
   "execution_count": 24,
   "metadata": {
    "colab": {
     "base_uri": "https://localhost:8080/"
    },
    "id": "FP8qR7Xy7GBb",
    "outputId": "c6d96d13-64e9-45ca-b0a8-82a6649a35b9"
   },
   "outputs": [
    {
     "data": {
      "text/plain": [
       "0.658"
      ]
     },
     "execution_count": 24,
     "metadata": {},
     "output_type": "execute_result"
    }
   ],
   "source": [
    "np.round(ADB_regression.score(X_test, y_test), 4)"
   ]
  },
  {
   "cell_type": "code",
   "execution_count": 25,
   "metadata": {
    "colab": {
     "base_uri": "https://localhost:8080/"
    },
    "id": "qGu1EGNi7Hw8",
    "outputId": "dd3cc889-fd36-4be5-f81d-0d3905dbf1a6"
   },
   "outputs": [
    {
     "data": {
      "text/plain": [
       "0.8422"
      ]
     },
     "execution_count": 25,
     "metadata": {},
     "output_type": "execute_result"
    }
   ],
   "source": [
    "np.round(GBM_regression.score(X_test, y_test), 4)"
   ]
  },
  {
   "cell_type": "code",
   "execution_count": 26,
   "metadata": {
    "colab": {
     "base_uri": "https://localhost:8080/"
    },
    "id": "8aqEDWnE7JKb",
    "outputId": "bb4ada88-8cb7-4c3a-9466-33842608bd22"
   },
   "outputs": [
    {
     "data": {
      "text/plain": [
       "0.9539"
      ]
     },
     "execution_count": 26,
     "metadata": {},
     "output_type": "execute_result"
    }
   ],
   "source": [
    "np.round(XGB_regression.score(X_test, y_test), 4)"
   ]
  },
  {
   "cell_type": "markdown",
   "metadata": {
    "id": "HHZCBWw876_6"
   },
   "source": [
    "Oddly enough, the best performance is coming from the vanilla RF model. The performance, ranked from highest to lowest $R^2$ are as follows:\n",
    "\n",
    "1. Random Forest: $R^2 = 0.9479$\n",
    "2. XGBoost: $R^2 = 0.8532$\n",
    "3. GBM: $R^2 = 0.8422$\n",
    "4. AdaBoost: $R^2 = 0.658$\n",
    "\n",
    "I am curious what happened with the AdaBoost model; why is the $R^2$ so low?"
   ]
  },
  {
   "cell_type": "markdown",
   "metadata": {
    "id": "bh9rhZOC8-QT"
   },
   "source": [
    "Overall however, XGBoost is the clear winner in terms of speed and performance. The model was trained in ~700ms and championed an $R^2$ of 85%. "
   ]
  },
  {
   "cell_type": "markdown",
   "metadata": {
    "id": "7yU1J7Dp9OyG"
   },
   "source": [
    "---"
   ]
  },
  {
   "cell_type": "markdown",
   "metadata": {
    "id": "Sqx41Kk-9QDF"
   },
   "source": [
    "# **Boosting Classification**"
   ]
  },
  {
   "cell_type": "markdown",
   "metadata": {
    "id": "NXcOVbEq9WCE"
   },
   "source": [
    "## Question 2"
   ]
  },
  {
   "cell_type": "markdown",
   "metadata": {
    "id": "rvawQrhxC6QH"
   },
   "source": [
    "#### *Speed*"
   ]
  },
  {
   "cell_type": "code",
   "execution_count": null,
   "metadata": {
    "id": "AmN-J7Qa9dgc"
   },
   "outputs": [],
   "source": [
    "from sklearn.ensemble import RandomForestClassifier, AdaBoostClassifier, GradientBoostingClassifier\n",
    "from xgboost import XGBClassifier"
   ]
  },
  {
   "cell_type": "code",
   "execution_count": null,
   "metadata": {
    "id": "RZ_vGGvV9s1f"
   },
   "outputs": [],
   "source": [
    "%%time\n",
    "RF_classification = RandomForestClassifier(random_state=randstate, n_estimators=100)\n",
    "RF_classification.fit(X_train, y_train)"
   ]
  },
  {
   "cell_type": "markdown",
   "metadata": {
    "id": "T60wA58vAocj"
   },
   "source": [
    "- Look at how slow vanilla RF is at training!"
   ]
  },
  {
   "cell_type": "code",
   "execution_count": null,
   "metadata": {
    "id": "gcDY5sM2AuL_"
   },
   "outputs": [],
   "source": [
    "%%time\n",
    "ADB_classification = AdaBoostClassifier(random_state=randstate, n_estimators=100)\n",
    "ADB_classification.fit(X_train, y_train)"
   ]
  },
  {
   "cell_type": "code",
   "execution_count": null,
   "metadata": {
    "id": "g-uTqTd-An-g"
   },
   "outputs": [],
   "source": [
    "%%time\n",
    "GBM_classification = GradientBoostingClassifier(random_state=randstate, n_estimators=100)\n",
    "GBM_classification.fit(X_train, y_train)"
   ]
  },
  {
   "cell_type": "code",
   "execution_count": null,
   "metadata": {
    "id": "Ce57IGUaAvOD"
   },
   "outputs": [],
   "source": [
    "%%time\n",
    "XGB_classification = XGBClassifier(random_state=randstate, n_estimators=100)\n",
    "XGB_classification.fit(X_train, y_train)"
   ]
  },
  {
   "cell_type": "markdown",
   "metadata": {
    "id": "tSssjAumC9sC"
   },
   "source": [
    "#### *Performance*"
   ]
  },
  {
   "cell_type": "code",
   "execution_count": null,
   "metadata": {
    "id": "OZ1c853oDXp2"
   },
   "outputs": [],
   "source": [
    "from sklearn.metrics import accuracy_score, recall_score, precision_score, f1_score\n",
    "from sklearn.metrics import confusion_matrix, classification_report, roc_curve, roc_auc_score"
   ]
  },
  {
   "cell_type": "code",
   "execution_count": null,
   "metadata": {
    "id": "Fhu4sjoLDDQq"
   },
   "outputs": [],
   "source": [
    "y_hat_RF = RF_classifier.predict(X_test)\n",
    "y_hat_ADB = AdB_classifier.predict(X_test)\n",
    "y_hat_GBM = GBM_classifier.predict(X_test)\n",
    "y_hat_XGB = XGB_classifier.predict(X_test)"
   ]
  },
  {
   "cell_type": "code",
   "execution_count": null,
   "metadata": {
    "id": "YBl0ANAcDOJ6"
   },
   "outputs": [],
   "source": [
    "print('RF f1 = {}'.format(f1_score(y_test, y_hat_RF)))\n",
    "print('AdB f1 = {}'.format(f1_score(y_test, y_hat_ADB)))\n",
    "print('GBM f1 = {}'.format(f1_score(y_test, y_hat_GBM)))\n",
    "print('XGB f1 = {}'.format(f1_score(y_test, y_hat_XGB)))"
   ]
  }
 ],
 "metadata": {
  "accelerator": "GPU",
  "colab": {
   "provenance": []
  },
  "gpuClass": "standard",
  "kernelspec": {
   "display_name": "Python 3 (ipykernel)",
   "language": "python",
   "name": "python3"
  },
  "language_info": {
   "codemirror_mode": {
    "name": "ipython",
    "version": 3
   },
   "file_extension": ".py",
   "mimetype": "text/x-python",
   "name": "python",
   "nbconvert_exporter": "python",
   "pygments_lexer": "ipython3",
   "version": "3.9.12"
  }
 },
 "nbformat": 4,
 "nbformat_minor": 1
}
